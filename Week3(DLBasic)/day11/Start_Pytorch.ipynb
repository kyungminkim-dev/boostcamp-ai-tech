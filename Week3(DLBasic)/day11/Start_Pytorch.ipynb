{
  "nbformat": 4,
  "nbformat_minor": 0,
  "metadata": {
    "colab": {
      "name": "Start_Pytorch",
      "provenance": []
    },
    "kernelspec": {
      "name": "python3",
      "display_name": "Python 3"
    },
    "accelerator": "GPU"
  },
  "cells": [
    {
      "cell_type": "code",
      "metadata": {
        "colab": {
          "base_uri": "https://localhost:8080/"
        },
        "id": "gewkY0aaZVc5",
        "outputId": "54d24248-4902-4c95-8c81-4f524bd1d8b0"
      },
      "source": [
        "import numpy as np\r\n",
        "n_array = np.arange(10).reshape(2,5)\r\n",
        "n_array"
      ],
      "execution_count": 2,
      "outputs": [
        {
          "output_type": "execute_result",
          "data": {
            "text/plain": [
              "array([[0, 1, 2, 3, 4],\n",
              "       [5, 6, 7, 8, 9]])"
            ]
          },
          "metadata": {
            "tags": []
          },
          "execution_count": 2
        }
      ]
    },
    {
      "cell_type": "code",
      "metadata": {
        "colab": {
          "base_uri": "https://localhost:8080/"
        },
        "id": "Ly5GaH1BZlnV",
        "outputId": "3d472b9a-a6d7-41f9-df96-7c25f18b88ce"
      },
      "source": [
        "print(n_array.ndim)\r\n",
        "print(n_array.shape)"
      ],
      "execution_count": 3,
      "outputs": [
        {
          "output_type": "stream",
          "text": [
            "2\n",
            "(2, 5)\n"
          ],
          "name": "stdout"
        }
      ]
    },
    {
      "cell_type": "code",
      "metadata": {
        "id": "gYvRIJU9ZvE7"
      },
      "source": [
        "import torch\r\n",
        "t_array = torch.FloatTensor(n_array)\r\n"
      ],
      "execution_count": 4,
      "outputs": []
    },
    {
      "cell_type": "code",
      "metadata": {
        "colab": {
          "base_uri": "https://localhost:8080/"
        },
        "id": "-kVj0Xw8aoFK",
        "outputId": "94a66267-94b0-4de1-b03e-04f7f9a3cc9c"
      },
      "source": [
        "t_array"
      ],
      "execution_count": 5,
      "outputs": [
        {
          "output_type": "execute_result",
          "data": {
            "text/plain": [
              "tensor([[0., 1., 2., 3., 4.],\n",
              "        [5., 6., 7., 8., 9.]])"
            ]
          },
          "metadata": {
            "tags": []
          },
          "execution_count": 5
        }
      ]
    },
    {
      "cell_type": "code",
      "metadata": {
        "colab": {
          "base_uri": "https://localhost:8080/"
        },
        "id": "ebZv8LaKaqN4",
        "outputId": "619835d1-0ae4-42ea-9f64-fae3935b1bfc"
      },
      "source": [
        "print(t_array.shape)\r\n",
        "print(t_array.ndim)\r\n",
        "print(t_array.size())"
      ],
      "execution_count": 6,
      "outputs": [
        {
          "output_type": "stream",
          "text": [
            "torch.Size([2, 5])\n",
            "2\n",
            "torch.Size([2, 5])\n"
          ],
          "name": "stdout"
        }
      ]
    },
    {
      "cell_type": "code",
      "metadata": {
        "colab": {
          "base_uri": "https://localhost:8080/"
        },
        "id": "_ta2yMTLa2gY",
        "outputId": "126b8a8f-600e-4f27-f23b-b9d06cc1c712"
      },
      "source": [
        "t_array[1:]"
      ],
      "execution_count": 7,
      "outputs": [
        {
          "output_type": "execute_result",
          "data": {
            "text/plain": [
              "tensor([[5., 6., 7., 8., 9.]])"
            ]
          },
          "metadata": {
            "tags": []
          },
          "execution_count": 7
        }
      ]
    },
    {
      "cell_type": "code",
      "metadata": {
        "colab": {
          "base_uri": "https://localhost:8080/"
        },
        "id": "-0nhnlusbFeB",
        "outputId": "a16ab697-0c89-4f26-9a9d-0c4ad295bed2"
      },
      "source": [
        "t_array[:2,:3]"
      ],
      "execution_count": 8,
      "outputs": [
        {
          "output_type": "execute_result",
          "data": {
            "text/plain": [
              "tensor([[0., 1., 2.],\n",
              "        [5., 6., 7.]])"
            ]
          },
          "metadata": {
            "tags": []
          },
          "execution_count": 8
        }
      ]
    },
    {
      "cell_type": "code",
      "metadata": {
        "id": "7EwRvPaUbSEg"
      },
      "source": [
        "n1 = np.arange(10).reshape(2,5)\r\n",
        "n2 = np.arange(10).reshape(5,2)"
      ],
      "execution_count": 9,
      "outputs": []
    },
    {
      "cell_type": "code",
      "metadata": {
        "colab": {
          "base_uri": "https://localhost:8080/"
        },
        "id": "h9QWDA3Zbica",
        "outputId": "e13a531d-c5bc-419c-9426-db893d8cdf42"
      },
      "source": [
        "t1 = torch.FloatTensor(n1)\r\n",
        "t2 = torch.FloatTensor(n2)\r\n",
        "print(f'Shape of t1: {t1.shape}')\r\n",
        "print(f'Shape of t2: {t2.shape}')"
      ],
      "execution_count": 10,
      "outputs": [
        {
          "output_type": "stream",
          "text": [
            "Shape of t1: torch.Size([2, 5])\n",
            "Shape of t2: torch.Size([5, 2])\n"
          ],
          "name": "stdout"
        }
      ]
    },
    {
      "cell_type": "code",
      "metadata": {
        "colab": {
          "base_uri": "https://localhost:8080/"
        },
        "id": "mrWnkuRLbvgc",
        "outputId": "217f158f-0c8b-4cfe-b91d-479680b253dc"
      },
      "source": [
        "print(t1.matmul(t2))"
      ],
      "execution_count": 11,
      "outputs": [
        {
          "output_type": "stream",
          "text": [
            "tensor([[ 60.,  70.],\n",
            "        [160., 195.]])\n"
          ],
          "name": "stdout"
        }
      ]
    },
    {
      "cell_type": "code",
      "metadata": {
        "colab": {
          "base_uri": "https://localhost:8080/"
        },
        "id": "__lbhVKOb196",
        "outputId": "faf24c1d-72db-4da7-94ad-ce69071ab10b"
      },
      "source": [
        "print(t1)\r\n",
        "print(t2)"
      ],
      "execution_count": 12,
      "outputs": [
        {
          "output_type": "stream",
          "text": [
            "tensor([[0., 1., 2., 3., 4.],\n",
            "        [5., 6., 7., 8., 9.]])\n",
            "tensor([[0., 1.],\n",
            "        [2., 3.],\n",
            "        [4., 5.],\n",
            "        [6., 7.],\n",
            "        [8., 9.]])\n"
          ],
          "name": "stdout"
        }
      ]
    },
    {
      "cell_type": "code",
      "metadata": {
        "colab": {
          "base_uri": "https://localhost:8080/"
        },
        "id": "bDwusNeBcF1i",
        "outputId": "6d6bc132-df1b-4161-f66a-12093c876354"
      },
      "source": [
        "n1.dot(n2)"
      ],
      "execution_count": 13,
      "outputs": [
        {
          "output_type": "execute_result",
          "data": {
            "text/plain": [
              "array([[ 60,  70],\n",
              "       [160, 195]])"
            ]
          },
          "metadata": {
            "tags": []
          },
          "execution_count": 13
        }
      ]
    },
    {
      "cell_type": "code",
      "metadata": {
        "colab": {
          "base_uri": "https://localhost:8080/"
        },
        "id": "w7sKUdIUcb_B",
        "outputId": "b9e88d4f-7017-46af-c59d-a6394976d2fe"
      },
      "source": [
        "n1 = np.arange(4).reshape(2,2)\r\n",
        "n2 = np.arange(4).reshape(2,2)\r\n",
        "t1 = torch.FloatTensor(n1)\r\n",
        "t2 = torch.FloatTensor(n2)\r\n",
        "\r\n",
        "t1 * t2"
      ],
      "execution_count": 14,
      "outputs": [
        {
          "output_type": "execute_result",
          "data": {
            "text/plain": [
              "tensor([[0., 1.],\n",
              "        [4., 9.]])"
            ]
          },
          "metadata": {
            "tags": []
          },
          "execution_count": 14
        }
      ]
    },
    {
      "cell_type": "code",
      "metadata": {
        "colab": {
          "base_uri": "https://localhost:8080/"
        },
        "id": "NkJDV8ffcv0N",
        "outputId": "9fdb41a7-121c-4d9b-9cbe-39cc7e3ec046"
      },
      "source": [
        "t1.mul(t2)"
      ],
      "execution_count": 15,
      "outputs": [
        {
          "output_type": "execute_result",
          "data": {
            "text/plain": [
              "tensor([[0., 1.],\n",
              "        [4., 9.]])"
            ]
          },
          "metadata": {
            "tags": []
          },
          "execution_count": 15
        }
      ]
    },
    {
      "cell_type": "code",
      "metadata": {
        "colab": {
          "base_uri": "https://localhost:8080/"
        },
        "id": "r8_bCsAkdGGe",
        "outputId": "bd689c2a-4b32-4203-dc72-5509a8f7dbbd"
      },
      "source": [
        "t1 * 5"
      ],
      "execution_count": 16,
      "outputs": [
        {
          "output_type": "execute_result",
          "data": {
            "text/plain": [
              "tensor([[ 0.,  5.],\n",
              "        [10., 15.]])"
            ]
          },
          "metadata": {
            "tags": []
          },
          "execution_count": 16
        }
      ]
    },
    {
      "cell_type": "code",
      "metadata": {
        "colab": {
          "base_uri": "https://localhost:8080/"
        },
        "id": "xrU2j1-idHeJ",
        "outputId": "347bbad7-570a-4985-c2e1-0abe3023b04c"
      },
      "source": [
        "n1 = np.arange(10)\r\n",
        "t1 = torch.FloatTensor(n1)\r\n",
        "t1.mean()"
      ],
      "execution_count": 17,
      "outputs": [
        {
          "output_type": "execute_result",
          "data": {
            "text/plain": [
              "tensor(4.5000)"
            ]
          },
          "metadata": {
            "tags": []
          },
          "execution_count": 17
        }
      ]
    },
    {
      "cell_type": "code",
      "metadata": {
        "colab": {
          "base_uri": "https://localhost:8080/"
        },
        "id": "BEDDzbdudQb6",
        "outputId": "2e20a5b8-16bd-4414-a384-2227c5cb333e"
      },
      "source": [
        "n1 = np.arange(10).reshape(5,2)\r\n",
        "t1 = torch.FloatTensor(n1)\r\n",
        "t1.mean(dim=0)"
      ],
      "execution_count": 18,
      "outputs": [
        {
          "output_type": "execute_result",
          "data": {
            "text/plain": [
              "tensor([4., 5.])"
            ]
          },
          "metadata": {
            "tags": []
          },
          "execution_count": 18
        }
      ]
    },
    {
      "cell_type": "code",
      "metadata": {
        "colab": {
          "base_uri": "https://localhost:8080/"
        },
        "id": "cc2V88aJdewS",
        "outputId": "64828752-790d-4c29-f7fd-6f6f4f2be5d6"
      },
      "source": [
        "t1.mean(dim=1)"
      ],
      "execution_count": 19,
      "outputs": [
        {
          "output_type": "execute_result",
          "data": {
            "text/plain": [
              "tensor([0.5000, 2.5000, 4.5000, 6.5000, 8.5000])"
            ]
          },
          "metadata": {
            "tags": []
          },
          "execution_count": 19
        }
      ]
    },
    {
      "cell_type": "code",
      "metadata": {
        "colab": {
          "base_uri": "https://localhost:8080/"
        },
        "id": "CvfkoNJzdmj6",
        "outputId": "76fd2c93-e919-4247-cfa1-c41e092151e1"
      },
      "source": [
        "n1 = np.arange(10)\r\n",
        "n1"
      ],
      "execution_count": 20,
      "outputs": [
        {
          "output_type": "execute_result",
          "data": {
            "text/plain": [
              "array([0, 1, 2, 3, 4, 5, 6, 7, 8, 9])"
            ]
          },
          "metadata": {
            "tags": []
          },
          "execution_count": 20
        }
      ]
    },
    {
      "cell_type": "code",
      "metadata": {
        "colab": {
          "base_uri": "https://localhost:8080/"
        },
        "id": "2HuZ4crteqQw",
        "outputId": "ff4e044d-9694-474e-8870-64fe7e517725"
      },
      "source": [
        "t1 = torch.FloatTensor(n1)\r\n",
        "t1.view(-1,2)"
      ],
      "execution_count": 21,
      "outputs": [
        {
          "output_type": "execute_result",
          "data": {
            "text/plain": [
              "tensor([[0., 1.],\n",
              "        [2., 3.],\n",
              "        [4., 5.],\n",
              "        [6., 7.],\n",
              "        [8., 9.]])"
            ]
          },
          "metadata": {
            "tags": []
          },
          "execution_count": 21
        }
      ]
    },
    {
      "cell_type": "code",
      "metadata": {
        "colab": {
          "base_uri": "https://localhost:8080/"
        },
        "id": "mVeT5MmCe7yo",
        "outputId": "c5c7cd59-3409-4ecd-ef29-e7115218e617"
      },
      "source": [
        "n1.reshape(-1,2)"
      ],
      "execution_count": 22,
      "outputs": [
        {
          "output_type": "execute_result",
          "data": {
            "text/plain": [
              "array([[0, 1],\n",
              "       [2, 3],\n",
              "       [4, 5],\n",
              "       [6, 7],\n",
              "       [8, 9]])"
            ]
          },
          "metadata": {
            "tags": []
          },
          "execution_count": 22
        }
      ]
    },
    {
      "cell_type": "code",
      "metadata": {
        "id": "s4PQwABPfIDX",
        "colab": {
          "base_uri": "https://localhost:8080/"
        },
        "outputId": "550fe083-e3ec-4fdd-8e07-3473390f6e4e"
      },
      "source": [
        "t1.view(-1,10).shape"
      ],
      "execution_count": 23,
      "outputs": [
        {
          "output_type": "execute_result",
          "data": {
            "text/plain": [
              "torch.Size([1, 10])"
            ]
          },
          "metadata": {
            "tags": []
          },
          "execution_count": 23
        }
      ]
    },
    {
      "cell_type": "code",
      "metadata": {
        "colab": {
          "base_uri": "https://localhost:8080/"
        },
        "id": "F4ZBiZN_vEy_",
        "outputId": "77e89c3e-5e4e-48e2-970b-9abcd3660223"
      },
      "source": [
        "t1.view(-1,10).squeeze()"
      ],
      "execution_count": 24,
      "outputs": [
        {
          "output_type": "execute_result",
          "data": {
            "text/plain": [
              "tensor([0., 1., 2., 3., 4., 5., 6., 7., 8., 9.])"
            ]
          },
          "metadata": {
            "tags": []
          },
          "execution_count": 24
        }
      ]
    },
    {
      "cell_type": "code",
      "metadata": {
        "id": "ZRgDBzH6vSvK"
      },
      "source": [
        "import torch  ## tensor operation for ML/DL formula\r\n",
        "import torch.nn.functional as F"
      ],
      "execution_count": 25,
      "outputs": []
    },
    {
      "cell_type": "code",
      "metadata": {
        "colab": {
          "base_uri": "https://localhost:8080/"
        },
        "id": "xeDUNsN1vupH",
        "outputId": "14b55c02-458b-401d-ed94-f9a11fffb200"
      },
      "source": [
        "tensor = torch.FloatTensor([0.5,0.7,0.1])\r\n",
        "h_tensor = F.softmax(tensor, dim=0)\r\n",
        "h_tensor"
      ],
      "execution_count": 26,
      "outputs": [
        {
          "output_type": "execute_result",
          "data": {
            "text/plain": [
              "tensor([0.3458, 0.4224, 0.2318])"
            ]
          },
          "metadata": {
            "tags": []
          },
          "execution_count": 26
        }
      ]
    },
    {
      "cell_type": "code",
      "metadata": {
        "id": "mnm54tvRv6dX"
      },
      "source": [
        "y = torch.randint(5,(10,5))\r\n",
        "y_label = y.argmax(dim=1)"
      ],
      "execution_count": 41,
      "outputs": []
    },
    {
      "cell_type": "code",
      "metadata": {
        "colab": {
          "base_uri": "https://localhost:8080/"
        },
        "id": "3YKOjH_iwbur",
        "outputId": "9307ea4b-088f-432a-86d3-b357c46ad74e"
      },
      "source": [
        "y_label"
      ],
      "execution_count": 42,
      "outputs": [
        {
          "output_type": "execute_result",
          "data": {
            "text/plain": [
              "tensor([4, 2, 1, 1, 1, 3, 4, 1, 1, 1])"
            ]
          },
          "metadata": {
            "tags": []
          },
          "execution_count": 42
        }
      ]
    },
    {
      "cell_type": "code",
      "metadata": {
        "colab": {
          "base_uri": "https://localhost:8080/"
        },
        "id": "QTUbRqQawevQ",
        "outputId": "d0cea935-2bbd-42c5-8425-86f3c0e60a6e"
      },
      "source": [
        "y"
      ],
      "execution_count": 43,
      "outputs": [
        {
          "output_type": "execute_result",
          "data": {
            "text/plain": [
              "tensor([[1, 3, 1, 0, 4],\n",
              "        [0, 1, 3, 3, 1],\n",
              "        [0, 3, 2, 2, 1],\n",
              "        [0, 2, 0, 2, 2],\n",
              "        [2, 4, 0, 1, 2],\n",
              "        [0, 3, 2, 4, 1],\n",
              "        [3, 3, 2, 2, 4],\n",
              "        [3, 4, 3, 0, 2],\n",
              "        [1, 4, 1, 1, 0],\n",
              "        [1, 2, 2, 1, 1]])"
            ]
          },
          "metadata": {
            "tags": []
          },
          "execution_count": 43
        }
      ]
    },
    {
      "cell_type": "code",
      "metadata": {
        "colab": {
          "base_uri": "https://localhost:8080/"
        },
        "id": "6jNAvEEnxMfZ",
        "outputId": "f222d345-c907-46f9-cfbd-1f16db9a3b21"
      },
      "source": [
        "F.one_hot(y_label)"
      ],
      "execution_count": 44,
      "outputs": [
        {
          "output_type": "execute_result",
          "data": {
            "text/plain": [
              "tensor([[0, 0, 0, 0, 1],\n",
              "        [0, 0, 1, 0, 0],\n",
              "        [0, 1, 0, 0, 0],\n",
              "        [0, 1, 0, 0, 0],\n",
              "        [0, 1, 0, 0, 0],\n",
              "        [0, 0, 0, 1, 0],\n",
              "        [0, 0, 0, 0, 1],\n",
              "        [0, 1, 0, 0, 0],\n",
              "        [0, 1, 0, 0, 0],\n",
              "        [0, 1, 0, 0, 0]])"
            ]
          },
          "metadata": {
            "tags": []
          },
          "execution_count": 44
        }
      ]
    },
    {
      "cell_type": "code",
      "metadata": {
        "id": "YDx57czWzdWH"
      },
      "source": [
        "w = torch.tensor(2.0, requires_grad=True)\r\n",
        "y = w**2\r\n",
        "z = 2*y + 5"
      ],
      "execution_count": 46,
      "outputs": []
    },
    {
      "cell_type": "code",
      "metadata": {
        "id": "HgKZyfBNz8AP"
      },
      "source": [
        "z.backward()"
      ],
      "execution_count": 47,
      "outputs": []
    },
    {
      "cell_type": "code",
      "metadata": {
        "colab": {
          "base_uri": "https://localhost:8080/"
        },
        "id": "seio4_Quz9cb",
        "outputId": "dac7723d-407c-4ff1-80ce-76b9ae2d6e98"
      },
      "source": [
        "w.grad"
      ],
      "execution_count": 48,
      "outputs": [
        {
          "output_type": "execute_result",
          "data": {
            "text/plain": [
              "tensor(8.)"
            ]
          },
          "metadata": {
            "tags": []
          },
          "execution_count": 48
        }
      ]
    },
    {
      "cell_type": "code",
      "metadata": {
        "id": "_6au0vPYz-ud"
      },
      "source": [
        "a = torch.tensor([2., 3.], requires_grad=True)\r\n",
        "b = torch.tensor([6., 4.], requires_grad=True)"
      ],
      "execution_count": 50,
      "outputs": []
    },
    {
      "cell_type": "code",
      "metadata": {
        "id": "KhDia1ck1HSW"
      },
      "source": [
        "Q = 3*a**3 - b**2"
      ],
      "execution_count": 51,
      "outputs": []
    },
    {
      "cell_type": "code",
      "metadata": {
        "id": "vISneyMO1MLJ"
      },
      "source": [
        "external_grad = torch.tensor([1., 1.])\r\n",
        "Q.backward(gradient=external_grad)"
      ],
      "execution_count": 52,
      "outputs": []
    },
    {
      "cell_type": "code",
      "metadata": {
        "colab": {
          "base_uri": "https://localhost:8080/"
        },
        "id": "-GSO-al61_Dy",
        "outputId": "61a48510-f014-4dfe-bdc7-c2880a066cbb"
      },
      "source": [
        "a.grad"
      ],
      "execution_count": 53,
      "outputs": [
        {
          "output_type": "execute_result",
          "data": {
            "text/plain": [
              "tensor([36., 81.])"
            ]
          },
          "metadata": {
            "tags": []
          },
          "execution_count": 53
        }
      ]
    },
    {
      "cell_type": "code",
      "metadata": {
        "colab": {
          "base_uri": "https://localhost:8080/"
        },
        "id": "85Px4aYR2AFb",
        "outputId": "cbb16ed9-376d-4cb2-e512-8b4b333b726d"
      },
      "source": [
        "b.grad"
      ],
      "execution_count": 54,
      "outputs": [
        {
          "output_type": "execute_result",
          "data": {
            "text/plain": [
              "tensor([-12.,  -8.])"
            ]
          },
          "metadata": {
            "tags": []
          },
          "execution_count": 54
        }
      ]
    },
    {
      "cell_type": "code",
      "metadata": {
        "id": "HtXyIaLl2E5n"
      },
      "source": [
        "import numpy as np\r\n",
        "x_values = [i for i in range(11)]\r\n",
        "x_train = np.array(x_values, dtype=np.float32)\r\n",
        "x_train = x_train.reshape(-1,1)\r\n",
        "\r\n",
        "y_values = [2*i + 1 for i in x_values]\r\n",
        "y_train = np.array(y_values, dtype=np.float32)\r\n",
        "y_train = y_train.reshape(-1,1)"
      ],
      "execution_count": 55,
      "outputs": []
    },
    {
      "cell_type": "code",
      "metadata": {
        "id": "Pwf3KhSQ_N_8"
      },
      "source": [
        "import torch\r\n",
        "from torch.autograd import Variable\r\n",
        "class LinearRegression(torch.nn.Module):\r\n",
        "  def __init__(self, inputSize, outputSize):\r\n",
        "    super(LinearRegression,self).__init__()\r\n",
        "    self.linear = torch.nn.Linear(inputSize, outputSize)\r\n",
        "\r\n",
        "  def forward(self,x):\r\n",
        "    out = self.linear(x)\r\n",
        "    return out"
      ],
      "execution_count": 72,
      "outputs": []
    },
    {
      "cell_type": "code",
      "metadata": {
        "id": "0kdkkZezAhgB"
      },
      "source": [
        "inputDim = 1 # takes variable 'x'\r\n",
        "outputDim = 1 # takes variable 'y'\r\n",
        "learningRate = 0.01\r\n",
        "epochs = 100\r\n",
        "\r\n",
        "model = LinearRegression(inputDim, outputDim)\r\n",
        "#### For GPU ####\r\n",
        "if torch.cuda.is_available():\r\n",
        "  model.cuda()"
      ],
      "execution_count": 73,
      "outputs": []
    },
    {
      "cell_type": "code",
      "metadata": {
        "id": "e4Cd6zDOBuMp"
      },
      "source": [
        "criterion = torch.nn.MSELoss()\r\n",
        "optimizer = torch.optim.SGD(model.parameters(), lr=learningRate)"
      ],
      "execution_count": 74,
      "outputs": []
    },
    {
      "cell_type": "code",
      "metadata": {
        "colab": {
          "base_uri": "https://localhost:8080/"
        },
        "id": "gGL7XwqACdcF",
        "outputId": "7bf408e3-88f2-4a07-a056-398250967bd6"
      },
      "source": [
        "for epoch in range(epochs):\r\n",
        "  # Coverting inputs and labels to Variable\r\n",
        "  if torch.cuda.is_available():\r\n",
        "    inputs = Variable(torch.from_numpy(x_train).cuda())\r\n",
        "    labels = Variable(torch.from_numpy(y_train).cuda())\r\n",
        "  else:\r\n",
        "    inputs = Variable(torch.from_numpy(x_train))\r\n",
        "    labels = Variable(torch.from_numpy(y_train))\r\n",
        "\r\n",
        "  # Clear gradient buffers because we don't want any gradient from previous epoch to carry forward, dont want to cummulate graidents \r\n",
        "  optimizer.zero_grad()  #항상 해줘야함\r\n",
        "\r\n",
        "  # get ouput from the model, given the inputs\r\n",
        "  outputs= model(inputs)\r\n",
        "\r\n",
        "  # get loss for the predicted output\r\n",
        "  loss = criterion(outputs, labels)\r\n",
        "  print(loss)\r\n",
        "  # get gradients w.r.t to parameters\r\n",
        "  loss.backward()\r\n",
        "\r\n",
        "  # update parameters\r\n",
        "  optimizer.step()\r\n",
        "\r\n",
        "  print(f'epoch {epoch}, loss {loss.item()}')\r\n",
        "\r\n"
      ],
      "execution_count": 75,
      "outputs": [
        {
          "output_type": "stream",
          "text": [
            "tensor(49.6937, device='cuda:0', grad_fn=<MseLossBackward>)\n",
            "epoch 0, loss 49.69368362426758\n",
            "tensor(4.2020, device='cuda:0', grad_fn=<MseLossBackward>)\n",
            "epoch 1, loss 4.201950550079346\n",
            "tensor(0.4897, device='cuda:0', grad_fn=<MseLossBackward>)\n",
            "epoch 2, loss 0.4896758794784546\n",
            "tensor(0.1852, device='cuda:0', grad_fn=<MseLossBackward>)\n",
            "epoch 3, loss 0.18523529171943665\n",
            "tensor(0.1588, device='cuda:0', grad_fn=<MseLossBackward>)\n",
            "epoch 4, loss 0.15878066420555115\n",
            "tensor(0.1550, device='cuda:0', grad_fn=<MseLossBackward>)\n",
            "epoch 5, loss 0.1550186723470688\n",
            "tensor(0.1531, device='cuda:0', grad_fn=<MseLossBackward>)\n",
            "epoch 6, loss 0.15312522649765015\n",
            "tensor(0.1514, device='cuda:0', grad_fn=<MseLossBackward>)\n",
            "epoch 7, loss 0.1514020711183548\n",
            "tensor(0.1497, device='cuda:0', grad_fn=<MseLossBackward>)\n",
            "epoch 8, loss 0.14971037209033966\n",
            "tensor(0.1480, device='cuda:0', grad_fn=<MseLossBackward>)\n",
            "epoch 9, loss 0.14803843200206757\n",
            "tensor(0.1464, device='cuda:0', grad_fn=<MseLossBackward>)\n",
            "epoch 10, loss 0.1463853269815445\n",
            "tensor(0.1448, device='cuda:0', grad_fn=<MseLossBackward>)\n",
            "epoch 11, loss 0.1447506695985794\n",
            "tensor(0.1431, device='cuda:0', grad_fn=<MseLossBackward>)\n",
            "epoch 12, loss 0.14313429594039917\n",
            "tensor(0.1415, device='cuda:0', grad_fn=<MseLossBackward>)\n",
            "epoch 13, loss 0.1415359079837799\n",
            "tensor(0.1400, device='cuda:0', grad_fn=<MseLossBackward>)\n",
            "epoch 14, loss 0.1399553269147873\n",
            "tensor(0.1384, device='cuda:0', grad_fn=<MseLossBackward>)\n",
            "epoch 15, loss 0.13839255273342133\n",
            "tensor(0.1368, device='cuda:0', grad_fn=<MseLossBackward>)\n",
            "epoch 16, loss 0.1368470937013626\n",
            "tensor(0.1353, device='cuda:0', grad_fn=<MseLossBackward>)\n",
            "epoch 17, loss 0.13531896471977234\n",
            "tensor(0.1338, device='cuda:0', grad_fn=<MseLossBackward>)\n",
            "epoch 18, loss 0.13380785286426544\n",
            "tensor(0.1323, device='cuda:0', grad_fn=<MseLossBackward>)\n",
            "epoch 19, loss 0.13231362402439117\n",
            "tensor(0.1308, device='cuda:0', grad_fn=<MseLossBackward>)\n",
            "epoch 20, loss 0.1308361440896988\n",
            "tensor(0.1294, device='cuda:0', grad_fn=<MseLossBackward>)\n",
            "epoch 21, loss 0.1293751299381256\n",
            "tensor(0.1279, device='cuda:0', grad_fn=<MseLossBackward>)\n",
            "epoch 22, loss 0.12793037295341492\n",
            "tensor(0.1265, device='cuda:0', grad_fn=<MseLossBackward>)\n",
            "epoch 23, loss 0.12650170922279358\n",
            "tensor(0.1251, device='cuda:0', grad_fn=<MseLossBackward>)\n",
            "epoch 24, loss 0.12508921325206757\n",
            "tensor(0.1237, device='cuda:0', grad_fn=<MseLossBackward>)\n",
            "epoch 25, loss 0.1236923411488533\n",
            "tensor(0.1223, device='cuda:0', grad_fn=<MseLossBackward>)\n",
            "epoch 26, loss 0.12231113016605377\n",
            "tensor(0.1209, device='cuda:0', grad_fn=<MseLossBackward>)\n",
            "epoch 27, loss 0.1209452822804451\n",
            "tensor(0.1196, device='cuda:0', grad_fn=<MseLossBackward>)\n",
            "epoch 28, loss 0.11959473043680191\n",
            "tensor(0.1183, device='cuda:0', grad_fn=<MseLossBackward>)\n",
            "epoch 29, loss 0.11825913935899734\n",
            "tensor(0.1169, device='cuda:0', grad_fn=<MseLossBackward>)\n",
            "epoch 30, loss 0.11693867295980453\n",
            "tensor(0.1156, device='cuda:0', grad_fn=<MseLossBackward>)\n",
            "epoch 31, loss 0.1156327873468399\n",
            "tensor(0.1143, device='cuda:0', grad_fn=<MseLossBackward>)\n",
            "epoch 32, loss 0.1143416091799736\n",
            "tensor(0.1131, device='cuda:0', grad_fn=<MseLossBackward>)\n",
            "epoch 33, loss 0.11306466907262802\n",
            "tensor(0.1118, device='cuda:0', grad_fn=<MseLossBackward>)\n",
            "epoch 34, loss 0.11180216073989868\n",
            "tensor(0.1106, device='cuda:0', grad_fn=<MseLossBackward>)\n",
            "epoch 35, loss 0.11055361479520798\n",
            "tensor(0.1093, device='cuda:0', grad_fn=<MseLossBackward>)\n",
            "epoch 36, loss 0.10931907594203949\n",
            "tensor(0.1081, device='cuda:0', grad_fn=<MseLossBackward>)\n",
            "epoch 37, loss 0.10809843242168427\n",
            "tensor(0.1069, device='cuda:0', grad_fn=<MseLossBackward>)\n",
            "epoch 38, loss 0.10689124464988708\n",
            "tensor(0.1057, device='cuda:0', grad_fn=<MseLossBackward>)\n",
            "epoch 39, loss 0.1056976169347763\n",
            "tensor(0.1045, device='cuda:0', grad_fn=<MseLossBackward>)\n",
            "epoch 40, loss 0.10451726615428925\n",
            "tensor(0.1034, device='cuda:0', grad_fn=<MseLossBackward>)\n",
            "epoch 41, loss 0.10335016250610352\n",
            "tensor(0.1022, device='cuda:0', grad_fn=<MseLossBackward>)\n",
            "epoch 42, loss 0.1021960973739624\n",
            "tensor(0.1011, device='cuda:0', grad_fn=<MseLossBackward>)\n",
            "epoch 43, loss 0.10105494409799576\n",
            "tensor(0.0999, device='cuda:0', grad_fn=<MseLossBackward>)\n",
            "epoch 44, loss 0.0999264195561409\n",
            "tensor(0.0988, device='cuda:0', grad_fn=<MseLossBackward>)\n",
            "epoch 45, loss 0.09881056845188141\n",
            "tensor(0.0977, device='cuda:0', grad_fn=<MseLossBackward>)\n",
            "epoch 46, loss 0.09770703315734863\n",
            "tensor(0.0966, device='cuda:0', grad_fn=<MseLossBackward>)\n",
            "epoch 47, loss 0.09661606699228287\n",
            "tensor(0.0955, device='cuda:0', grad_fn=<MseLossBackward>)\n",
            "epoch 48, loss 0.09553715586662292\n",
            "tensor(0.0945, device='cuda:0', grad_fn=<MseLossBackward>)\n",
            "epoch 49, loss 0.09447032958269119\n",
            "tensor(0.0934, device='cuda:0', grad_fn=<MseLossBackward>)\n",
            "epoch 50, loss 0.09341543912887573\n",
            "tensor(0.0924, device='cuda:0', grad_fn=<MseLossBackward>)\n",
            "epoch 51, loss 0.09237217903137207\n",
            "tensor(0.0913, device='cuda:0', grad_fn=<MseLossBackward>)\n",
            "epoch 52, loss 0.0913407951593399\n",
            "tensor(0.0903, device='cuda:0', grad_fn=<MseLossBackward>)\n",
            "epoch 53, loss 0.09032074362039566\n",
            "tensor(0.0893, device='cuda:0', grad_fn=<MseLossBackward>)\n",
            "epoch 54, loss 0.08931208401918411\n",
            "tensor(0.0883, device='cuda:0', grad_fn=<MseLossBackward>)\n",
            "epoch 55, loss 0.08831483125686646\n",
            "tensor(0.0873, device='cuda:0', grad_fn=<MseLossBackward>)\n",
            "epoch 56, loss 0.08732869476079941\n",
            "tensor(0.0864, device='cuda:0', grad_fn=<MseLossBackward>)\n",
            "epoch 57, loss 0.08635338395833969\n",
            "tensor(0.0854, device='cuda:0', grad_fn=<MseLossBackward>)\n",
            "epoch 58, loss 0.0853891521692276\n",
            "tensor(0.0844, device='cuda:0', grad_fn=<MseLossBackward>)\n",
            "epoch 59, loss 0.08443558216094971\n",
            "tensor(0.0835, device='cuda:0', grad_fn=<MseLossBackward>)\n",
            "epoch 60, loss 0.08349277824163437\n",
            "tensor(0.0826, device='cuda:0', grad_fn=<MseLossBackward>)\n",
            "epoch 61, loss 0.08256029337644577\n",
            "tensor(0.0816, device='cuda:0', grad_fn=<MseLossBackward>)\n",
            "epoch 62, loss 0.08163844048976898\n",
            "tensor(0.0807, device='cuda:0', grad_fn=<MseLossBackward>)\n",
            "epoch 63, loss 0.08072678744792938\n",
            "tensor(0.0798, device='cuda:0', grad_fn=<MseLossBackward>)\n",
            "epoch 64, loss 0.07982534915208817\n",
            "tensor(0.0789, device='cuda:0', grad_fn=<MseLossBackward>)\n",
            "epoch 65, loss 0.07893392443656921\n",
            "tensor(0.0781, device='cuda:0', grad_fn=<MseLossBackward>)\n",
            "epoch 66, loss 0.07805244624614716\n",
            "tensor(0.0772, device='cuda:0', grad_fn=<MseLossBackward>)\n",
            "epoch 67, loss 0.0771808922290802\n",
            "tensor(0.0763, device='cuda:0', grad_fn=<MseLossBackward>)\n",
            "epoch 68, loss 0.07631893455982208\n",
            "tensor(0.0755, device='cuda:0', grad_fn=<MseLossBackward>)\n",
            "epoch 69, loss 0.07546673715114594\n",
            "tensor(0.0746, device='cuda:0', grad_fn=<MseLossBackward>)\n",
            "epoch 70, loss 0.07462401688098907\n",
            "tensor(0.0738, device='cuda:0', grad_fn=<MseLossBackward>)\n",
            "epoch 71, loss 0.07379070669412613\n",
            "tensor(0.0730, device='cuda:0', grad_fn=<MseLossBackward>)\n",
            "epoch 72, loss 0.07296672463417053\n",
            "tensor(0.0722, device='cuda:0', grad_fn=<MseLossBackward>)\n",
            "epoch 73, loss 0.07215189933776855\n",
            "tensor(0.0713, device='cuda:0', grad_fn=<MseLossBackward>)\n",
            "epoch 74, loss 0.0713462084531784\n",
            "tensor(0.0705, device='cuda:0', grad_fn=<MseLossBackward>)\n",
            "epoch 75, loss 0.07054939866065979\n",
            "tensor(0.0698, device='cuda:0', grad_fn=<MseLossBackward>)\n",
            "epoch 76, loss 0.06976162642240524\n",
            "tensor(0.0690, device='cuda:0', grad_fn=<MseLossBackward>)\n",
            "epoch 77, loss 0.06898263096809387\n",
            "tensor(0.0682, device='cuda:0', grad_fn=<MseLossBackward>)\n",
            "epoch 78, loss 0.06821229308843613\n",
            "tensor(0.0675, device='cuda:0', grad_fn=<MseLossBackward>)\n",
            "epoch 79, loss 0.06745066493749619\n",
            "tensor(0.0667, device='cuda:0', grad_fn=<MseLossBackward>)\n",
            "epoch 80, loss 0.06669744849205017\n",
            "tensor(0.0660, device='cuda:0', grad_fn=<MseLossBackward>)\n",
            "epoch 81, loss 0.06595262140035629\n",
            "tensor(0.0652, device='cuda:0', grad_fn=<MseLossBackward>)\n",
            "epoch 82, loss 0.06521614640951157\n",
            "tensor(0.0645, device='cuda:0', grad_fn=<MseLossBackward>)\n",
            "epoch 83, loss 0.06448783725500107\n",
            "tensor(0.0638, device='cuda:0', grad_fn=<MseLossBackward>)\n",
            "epoch 84, loss 0.0637676939368248\n",
            "tensor(0.0631, device='cuda:0', grad_fn=<MseLossBackward>)\n",
            "epoch 85, loss 0.0630556121468544\n",
            "tensor(0.0624, device='cuda:0', grad_fn=<MseLossBackward>)\n",
            "epoch 86, loss 0.062351446598768234\n",
            "tensor(0.0617, device='cuda:0', grad_fn=<MseLossBackward>)\n",
            "epoch 87, loss 0.061655253171920776\n",
            "tensor(0.0610, device='cuda:0', grad_fn=<MseLossBackward>)\n",
            "epoch 88, loss 0.06096666678786278\n",
            "tensor(0.0603, device='cuda:0', grad_fn=<MseLossBackward>)\n",
            "epoch 89, loss 0.06028594449162483\n",
            "tensor(0.0596, device='cuda:0', grad_fn=<MseLossBackward>)\n",
            "epoch 90, loss 0.059612736105918884\n",
            "tensor(0.0589, device='cuda:0', grad_fn=<MseLossBackward>)\n",
            "epoch 91, loss 0.05894700810313225\n",
            "tensor(0.0583, device='cuda:0', grad_fn=<MseLossBackward>)\n",
            "epoch 92, loss 0.058288805186748505\n",
            "tensor(0.0576, device='cuda:0', grad_fn=<MseLossBackward>)\n",
            "epoch 93, loss 0.05763792246580124\n",
            "tensor(0.0570, device='cuda:0', grad_fn=<MseLossBackward>)\n",
            "epoch 94, loss 0.05699419230222702\n",
            "tensor(0.0564, device='cuda:0', grad_fn=<MseLossBackward>)\n",
            "epoch 95, loss 0.05635782331228256\n",
            "tensor(0.0557, device='cuda:0', grad_fn=<MseLossBackward>)\n",
            "epoch 96, loss 0.05572843179106712\n",
            "tensor(0.0551, device='cuda:0', grad_fn=<MseLossBackward>)\n",
            "epoch 97, loss 0.055106110870838165\n",
            "tensor(0.0545, device='cuda:0', grad_fn=<MseLossBackward>)\n",
            "epoch 98, loss 0.054490827023983\n",
            "tensor(0.0539, device='cuda:0', grad_fn=<MseLossBackward>)\n",
            "epoch 99, loss 0.05388224124908447\n"
          ],
          "name": "stdout"
        }
      ]
    },
    {
      "cell_type": "code",
      "metadata": {
        "colab": {
          "base_uri": "https://localhost:8080/"
        },
        "id": "w42RTAo_Du8O",
        "outputId": "a062ec97-5eea-4fb4-9d97-a2dd7d0b03ae"
      },
      "source": [
        "with torch.no_grad(): # we don't need gradients in the testing phase\r\n",
        "  if torch.cuda.is_available():\r\n",
        "    predicted = model(Variable(torch.from_numpy(x_train).cuda())).cpu().data.numpy()\r\n",
        "  else:\r\n",
        "    predicted = model(Variable(torch.from_numpy(x_train))).data.numpy()\r\n",
        "  print(predicted)"
      ],
      "execution_count": 76,
      "outputs": [
        {
          "output_type": "stream",
          "text": [
            "[[ 0.56819934]\n",
            " [ 2.6303825 ]\n",
            " [ 4.6925654 ]\n",
            " [ 6.754749  ]\n",
            " [ 8.816932  ]\n",
            " [10.879115  ]\n",
            " [12.9412985 ]\n",
            " [15.003481  ]\n",
            " [17.065664  ]\n",
            " [19.127848  ]\n",
            " [21.190031  ]]\n"
          ],
          "name": "stdout"
        }
      ]
    },
    {
      "cell_type": "code",
      "metadata": {
        "id": "r2KWZlQAE2f7"
      },
      "source": [
        ""
      ],
      "execution_count": null,
      "outputs": []
    }
  ]
}