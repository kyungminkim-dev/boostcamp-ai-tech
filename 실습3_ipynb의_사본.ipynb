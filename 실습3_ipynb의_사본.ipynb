{
  "nbformat": 4,
  "nbformat_minor": 0,
  "metadata": {
    "colab": {
      "name": "실습3.ipynb의 사본",
      "provenance": [],
      "collapsed_sections": [],
      "include_colab_link": true
    },
    "kernelspec": {
      "name": "python3",
      "display_name": "Python 3"
    }
  },
  "cells": [
    {
      "cell_type": "markdown",
      "metadata": {
        "id": "view-in-github",
        "colab_type": "text"
      },
      "source": [
        "<a href=\"https://colab.research.google.com/github/kyungminkim-dev/boostcamp-ai-tech/blob/main/%EC%8B%A4%EC%8A%B53_ipynb%EC%9D%98_%EC%82%AC%EB%B3%B8.ipynb\" target=\"_parent\"><img src=\"https://colab.research.google.com/assets/colab-badge.svg\" alt=\"Open In Colab\"/></a>"
      ]
    },
    {
      "cell_type": "markdown",
      "metadata": {
        "id": "CkyklNZUMWzS"
      },
      "source": [
        "**Lab 3 : PageRank**\r\n",
        "- Instuctor : Kijung Shin\r\n",
        "- Teaching Assistants : Deukryeol Yoon(main), Hyunju Lee, Shinhwan Kang\r\n",
        "- 본 실습에서는 PageRank 알고리즘에 대해서 배운다."
      ]
    },
    {
      "cell_type": "code",
      "metadata": {
        "id": "tKbU4xZXCLbd",
        "colab": {
          "base_uri": "https://localhost:8080/"
        },
        "outputId": "672e181d-de50-479f-d4a9-ff5164584791"
      },
      "source": [
        "# -*- coding: utf-8 -*-\r\n",
        "# 실습에 필요한 library를 import하고 그래프를 초기화합니다.\r\n",
        "import networkx as nx\r\n",
        "import os\r\n",
        "import os.path as osp\r\n",
        "import numpy as np\r\n",
        "import sys\r\n",
        "import matplotlib.pyplot as plt\r\n",
        "import collections\r\n",
        "from google.colab import drive\r\n",
        "drive.mount('/content/drive')\r\n",
        "np.set_printoptions(threshold=sys.maxsize)\r\n",
        "\r\n",
        "\r\n",
        "G = nx.DiGraph()"
      ],
      "execution_count": 1,
      "outputs": [
        {
          "output_type": "stream",
          "text": [
            "Mounted at /content/drive\n"
          ],
          "name": "stdout"
        }
      ]
    },
    {
      "cell_type": "code",
      "metadata": {
        "id": "Cyupgqp6FXgn"
      },
      "source": [
        "# 실습에 필요한 데이터셋을 읽어서 저장합니다.\r\n",
        "path_v2n = osp.abspath(osp.join(os.getcwd(), 'drive/MyDrive/data/others/vertex2name.txt'))\r\n",
        "path_edges = osp.abspath(osp.join(os.getcwd(), 'drive/MyDrive/data/others/edges.txt'))\r\n",
        "\r\n",
        "# keyword : deep_learning.txt (딥러닝), lee.txt (이순신), bong.txt(봉준호)\r\n",
        "path_keyword = osp.abspath(osp.join(os.getcwd(), 'drive/MyDrive/data/lab/lab3/deep_learning.txt'))\r\n",
        "\r\n",
        "f = open(path_edges)\r\n",
        "for line in f:\r\n",
        "  v1, v2 = map(int,line.split())\r\n",
        "  G.add_edge(v1,v2)\r\n",
        "\r\n",
        "n2v = {}\r\n",
        "v2n = {}\r\n",
        "f = open(path_v2n)\r\n",
        "for line in f:\r\n",
        "  v, n = line.split()\r\n",
        "  v = int(v)\r\n",
        "  n = n.rstrip()\r\n",
        "  n2v[n] = v\r\n",
        "  v2n[v] = n\r\n",
        "\r\n",
        "node_key = []\r\n",
        "f = open(path_keyword)\r\n",
        "for line in f:\r\n",
        "  v = line.rstrip()\r\n",
        "  v = int(v)\r\n",
        "  node_key.append(v)\r\n"
      ],
      "execution_count": null,
      "outputs": []
    },
    {
      "cell_type": "code",
      "metadata": {
        "id": "jmgSSZMZIfuG"
      },
      "source": [
        "# 키워드를 포함한 문서들로 이루어진 부분 그래프(subgraph) H를 추출합니다.\r\n",
        "H = G.subgraph(node_key)"
      ],
      "execution_count": null,
      "outputs": []
    },
    {
      "cell_type": "code",
      "metadata": {
        "id": "lLSqC046QhYt",
        "colab": {
          "base_uri": "https://localhost:8080/"
        },
        "outputId": "0858555e-9905-4fa9-abb3-b0574086f153"
      },
      "source": [
        "# subgraph H에 대해서 pagerank 알고리즘을 시행합니다.\r\n",
        "print(\"###### PageRank Algorithm ######\")\r\n",
        "pr = nx.pagerank(H, alpha = 0.9)\r\n",
        "res = [key for (key, value) in sorted(pr.items(), key=lambda x:x[1], reverse=True)]\r\n",
        "for item in res[:10]:\r\n",
        "    print(v2n[item])"
      ],
      "execution_count": null,
      "outputs": [
        {
          "output_type": "stream",
          "text": [
            "###### PageRank Algorithm ######\n",
            "딥러닝\n",
            "OpenCV\n",
            "이스트소프트\n",
            "인공지능인문학\n",
            "미분기하학\n",
            "PyTorch\n",
            "라온피플\n",
            "자동긴급제동장치\n",
            "케플러-90i\n",
            "T2d\n"
          ],
          "name": "stdout"
        }
      ]
    },
    {
      "cell_type": "code",
      "metadata": {
        "id": "9d3_Hhr5pDiw"
      },
      "source": [
        ""
      ],
      "execution_count": null,
      "outputs": []
    }
  ]
}