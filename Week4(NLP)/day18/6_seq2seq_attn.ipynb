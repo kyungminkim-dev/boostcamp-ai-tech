{
  "nbformat": 4,
  "nbformat_minor": 0,
  "metadata": {
    "colab": {
      "name": "6_seq2seq_attn.ipynb의 사본",
      "provenance": [],
      "collapsed_sections": [],
      "include_colab_link": true
    },
    "kernelspec": {
      "display_name": "Python 3",
      "name": "python3"
    },
    "accelerator": "GPU"
  },
  "cells": [
    {
      "cell_type": "markdown",
      "metadata": {
        "id": "view-in-github",
        "colab_type": "text"
      },
      "source": [
        "<a href=\"https://colab.research.google.com/github/kyungminkim-dev/boostcamp-ai-tech/blob/main/6_seq2seq_attn_ipynb%EC%9D%98_%EC%82%AC%EB%B3%B8.ipynb\" target=\"_parent\"><img src=\"https://colab.research.google.com/assets/colab-badge.svg\" alt=\"Open In Colab\"/></a>"
      ]
    },
    {
      "cell_type": "markdown",
      "metadata": {
        "id": "9KsBGZpKkWki"
      },
      "source": [
        "##**6. Seq2seq + Attention**\r\n",
        "1. 여러 Attention 모듈을 구현합니다.\r\n",
        "2. 기존 Seq2seq 모델과의 차이를 이해합니다."
      ]
    },
    {
      "cell_type": "markdown",
      "metadata": {
        "id": "8qRU5DFY2OM8"
      },
      "source": [
        "### **필요 패키지 import**"
      ]
    },
    {
      "cell_type": "code",
      "metadata": {
        "id": "GOoDGkaFkrd2"
      },
      "source": [
        "from tqdm import tqdm\r\n",
        "from torch import nn\r\n",
        "from torch.nn.utils.rnn import pack_padded_sequence, pad_packed_sequence\r\n",
        "from torch.nn import functional as F\r\n",
        "\r\n",
        "import torch\r\n",
        "import random"
      ],
      "execution_count": 1,
      "outputs": []
    },
    {
      "cell_type": "markdown",
      "metadata": {
        "id": "hz8nkrRZSysK"
      },
      "source": [
        "### **데이터 전처리**"
      ]
    },
    {
      "cell_type": "markdown",
      "metadata": {
        "id": "7DBRVAT32YEw"
      },
      "source": [
        "데이터 처리는 이전과 동일합니다."
      ]
    },
    {
      "cell_type": "code",
      "metadata": {
        "id": "1neCRvux8k6Z"
      },
      "source": [
        "vocab_size = 100\r\n",
        "pad_id = 0\r\n",
        "sos_id = 1\r\n",
        "eos_id = 2\r\n",
        "\r\n",
        "src_data = [\r\n",
        "  [3, 77, 56, 26, 3, 55, 12, 36, 31],\r\n",
        "  [58, 20, 65, 46, 26, 10, 76, 44],\r\n",
        "  [58, 17, 8],\r\n",
        "  [59],\r\n",
        "  [29, 3, 52, 74, 73, 51, 39, 75, 19],\r\n",
        "  [41, 55, 77, 21, 52, 92, 97, 69, 54, 14, 93],\r\n",
        "  [39, 47, 96, 68, 55, 16, 90, 45, 89, 84, 19, 22, 32, 99, 5],\r\n",
        "  [75, 34, 17, 3, 86, 88],\r\n",
        "  [63, 39, 5, 35, 67, 56, 68, 89, 55, 66],\r\n",
        "  [12, 40, 69, 39, 49]\r\n",
        "]\r\n",
        "\r\n",
        "trg_data = [\r\n",
        "  [75, 13, 22, 77, 89, 21, 13, 86, 95],\r\n",
        "  [79, 14, 91, 41, 32, 79, 88, 34, 8, 68, 32, 77, 58, 7, 9, 87],\r\n",
        "  [85, 8, 50, 30],\r\n",
        "  [47, 30],\r\n",
        "  [8, 85, 87, 77, 47, 21, 23, 98, 83, 4, 47, 97, 40, 43, 70, 8, 65, 71, 69, 88],\r\n",
        "  [32, 37, 31, 77, 38, 93, 45, 74, 47, 54, 31, 18],\r\n",
        "  [37, 14, 49, 24, 93, 37, 54, 51, 39, 84],\r\n",
        "  [16, 98, 68, 57, 55, 46, 66, 85, 18],\r\n",
        "  [20, 70, 14, 6, 58, 90, 30, 17, 91, 18, 90],\r\n",
        "  [37, 93, 98, 13, 45, 28, 89, 72, 70]\r\n",
        "]"
      ],
      "execution_count": 2,
      "outputs": []
    },
    {
      "cell_type": "code",
      "metadata": {
        "id": "xwq5SNGUdCT9",
        "colab": {
          "base_uri": "https://localhost:8080/"
        },
        "outputId": "4edce027-ee0b-4a80-800b-c5a53aad9f18"
      },
      "source": [
        "trg_data = [[sos_id]+seq+[eos_id] for seq in tqdm(trg_data)]"
      ],
      "execution_count": 3,
      "outputs": [
        {
          "output_type": "stream",
          "text": [
            "100%|██████████| 10/10 [00:00<00:00, 36002.61it/s]\n"
          ],
          "name": "stderr"
        }
      ]
    },
    {
      "cell_type": "code",
      "metadata": {
        "id": "RSeExSrRAYg8"
      },
      "source": [
        "def padding(data, is_src=True):\r\n",
        "  max_len = len(max(data, key=len))\r\n",
        "  print(f\"Maximum sequence length: {max_len}\")\r\n",
        "\r\n",
        "  valid_lens = []\r\n",
        "  for i, seq in enumerate(tqdm(data)):\r\n",
        "    valid_lens.append(len(seq))\r\n",
        "    if len(seq) < max_len:\r\n",
        "      data[i] = seq + [pad_id] * (max_len - len(seq))\r\n",
        "\r\n",
        "  return data, valid_lens, max_len"
      ],
      "execution_count": 4,
      "outputs": []
    },
    {
      "cell_type": "code",
      "metadata": {
        "id": "yCXaXdk-ApJu",
        "colab": {
          "base_uri": "https://localhost:8080/"
        },
        "outputId": "e975679d-a78c-4bc2-8b6a-6c53e57d718c"
      },
      "source": [
        "src_data, src_lens, src_max_len = padding(src_data)\r\n",
        "trg_data, trg_lens, trg_max_len = padding(trg_data)"
      ],
      "execution_count": 5,
      "outputs": [
        {
          "output_type": "stream",
          "text": [
            "100%|██████████| 10/10 [00:00<00:00, 1941.81it/s]\n",
            "100%|██████████| 10/10 [00:00<00:00, 4897.03it/s]"
          ],
          "name": "stderr"
        },
        {
          "output_type": "stream",
          "text": [
            "Maximum sequence length: 15\n",
            "Maximum sequence length: 22\n"
          ],
          "name": "stdout"
        },
        {
          "output_type": "stream",
          "text": [
            "\n"
          ],
          "name": "stderr"
        }
      ]
    },
    {
      "cell_type": "code",
      "metadata": {
        "id": "6F3Mx8pbAvqt",
        "colab": {
          "base_uri": "https://localhost:8080/"
        },
        "outputId": "a543541f-515f-4923-8112-35ea7dee2a95"
      },
      "source": [
        "# B: batch size, S_L: source maximum sequence length, T_L: target maximum sequence length\r\n",
        "src_batch = torch.LongTensor(src_data)  # (B, S_L)\r\n",
        "src_batch_lens = torch.LongTensor(src_lens)  # (B)\r\n",
        "trg_batch = torch.LongTensor(trg_data)  # (B, T_L)\r\n",
        "trg_batch_lens = torch.LongTensor(trg_lens)  # (B)\r\n",
        "\r\n",
        "print(src_batch.shape)\r\n",
        "print(src_batch_lens.shape)\r\n",
        "print(trg_batch.shape)\r\n",
        "print(trg_batch_lens.shape)"
      ],
      "execution_count": 6,
      "outputs": [
        {
          "output_type": "stream",
          "text": [
            "torch.Size([10, 15])\n",
            "torch.Size([10])\n",
            "torch.Size([10, 22])\n",
            "torch.Size([10])\n"
          ],
          "name": "stdout"
        }
      ]
    },
    {
      "cell_type": "code",
      "metadata": {
        "id": "jxmvrpQABWn8",
        "colab": {
          "base_uri": "https://localhost:8080/"
        },
        "outputId": "c6145336-fbb3-4494-8d66-d97b9377ecbf"
      },
      "source": [
        "src_batch_lens, sorted_idx = src_batch_lens.sort(descending=True)\r\n",
        "src_batch = src_batch[sorted_idx]\r\n",
        "trg_batch = trg_batch[sorted_idx]\r\n",
        "trg_batch_lens = trg_batch_lens[sorted_idx]\r\n",
        "\r\n",
        "print(src_batch)\r\n",
        "print(src_batch_lens)\r\n",
        "print(trg_batch)\r\n",
        "print(trg_batch_lens)"
      ],
      "execution_count": 7,
      "outputs": [
        {
          "output_type": "stream",
          "text": [
            "tensor([[39, 47, 96, 68, 55, 16, 90, 45, 89, 84, 19, 22, 32, 99,  5],\n",
            "        [41, 55, 77, 21, 52, 92, 97, 69, 54, 14, 93,  0,  0,  0,  0],\n",
            "        [63, 39,  5, 35, 67, 56, 68, 89, 55, 66,  0,  0,  0,  0,  0],\n",
            "        [ 3, 77, 56, 26,  3, 55, 12, 36, 31,  0,  0,  0,  0,  0,  0],\n",
            "        [29,  3, 52, 74, 73, 51, 39, 75, 19,  0,  0,  0,  0,  0,  0],\n",
            "        [58, 20, 65, 46, 26, 10, 76, 44,  0,  0,  0,  0,  0,  0,  0],\n",
            "        [75, 34, 17,  3, 86, 88,  0,  0,  0,  0,  0,  0,  0,  0,  0],\n",
            "        [12, 40, 69, 39, 49,  0,  0,  0,  0,  0,  0,  0,  0,  0,  0],\n",
            "        [58, 17,  8,  0,  0,  0,  0,  0,  0,  0,  0,  0,  0,  0,  0],\n",
            "        [59,  0,  0,  0,  0,  0,  0,  0,  0,  0,  0,  0,  0,  0,  0]])\n",
            "tensor([15, 11, 10,  9,  9,  8,  6,  5,  3,  1])\n",
            "tensor([[ 1, 37, 14, 49, 24, 93, 37, 54, 51, 39, 84,  2,  0,  0,  0,  0,  0,  0,\n",
            "          0,  0,  0,  0],\n",
            "        [ 1, 32, 37, 31, 77, 38, 93, 45, 74, 47, 54, 31, 18,  2,  0,  0,  0,  0,\n",
            "          0,  0,  0,  0],\n",
            "        [ 1, 20, 70, 14,  6, 58, 90, 30, 17, 91, 18, 90,  2,  0,  0,  0,  0,  0,\n",
            "          0,  0,  0,  0],\n",
            "        [ 1, 75, 13, 22, 77, 89, 21, 13, 86, 95,  2,  0,  0,  0,  0,  0,  0,  0,\n",
            "          0,  0,  0,  0],\n",
            "        [ 1,  8, 85, 87, 77, 47, 21, 23, 98, 83,  4, 47, 97, 40, 43, 70,  8, 65,\n",
            "         71, 69, 88,  2],\n",
            "        [ 1, 79, 14, 91, 41, 32, 79, 88, 34,  8, 68, 32, 77, 58,  7,  9, 87,  2,\n",
            "          0,  0,  0,  0],\n",
            "        [ 1, 16, 98, 68, 57, 55, 46, 66, 85, 18,  2,  0,  0,  0,  0,  0,  0,  0,\n",
            "          0,  0,  0,  0],\n",
            "        [ 1, 37, 93, 98, 13, 45, 28, 89, 72, 70,  2,  0,  0,  0,  0,  0,  0,  0,\n",
            "          0,  0,  0,  0],\n",
            "        [ 1, 85,  8, 50, 30,  2,  0,  0,  0,  0,  0,  0,  0,  0,  0,  0,  0,  0,\n",
            "          0,  0,  0,  0],\n",
            "        [ 1, 47, 30,  2,  0,  0,  0,  0,  0,  0,  0,  0,  0,  0,  0,  0,  0,  0,\n",
            "          0,  0,  0,  0]])\n",
            "tensor([12, 14, 13, 11, 22, 18, 11, 11,  6,  4])\n"
          ],
          "name": "stdout"
        }
      ]
    },
    {
      "cell_type": "markdown",
      "metadata": {
        "id": "emD3bFjS2vEn"
      },
      "source": [
        "### **Encoder 구현**"
      ]
    },
    {
      "cell_type": "markdown",
      "metadata": {
        "id": "y5k9sSui29yP"
      },
      "source": [
        "Encoder 역시 기존 Seq2seq 모델과 동일합니다."
      ]
    },
    {
      "cell_type": "code",
      "metadata": {
        "id": "MmhCME-PDUJ8"
      },
      "source": [
        "embedding_size = 256\r\n",
        "hidden_size = 512\r\n",
        "num_layers = 2\r\n",
        "num_dirs = 2\r\n",
        "dropout = 0.1"
      ],
      "execution_count": 8,
      "outputs": []
    },
    {
      "cell_type": "code",
      "metadata": {
        "id": "epZDaDO-FMPu"
      },
      "source": [
        "class Encoder(nn.Module):\r\n",
        "  def __init__(self):\r\n",
        "    super(Encoder, self).__init__()\r\n",
        "\r\n",
        "    self.embedding = nn.Embedding(vocab_size, embedding_size)\r\n",
        "    self.gru = nn.GRU(\r\n",
        "        input_size=embedding_size, \r\n",
        "        hidden_size=hidden_size,\r\n",
        "        num_layers=num_layers,\r\n",
        "        bidirectional=True if num_dirs > 1 else False,\r\n",
        "        dropout=dropout\r\n",
        "    )\r\n",
        "    self.linear = nn.Linear(num_dirs * hidden_size, hidden_size)\r\n",
        "\r\n",
        "  def forward(self, batch, batch_lens):  # batch: (B, S_L), batch_lens: (B)\r\n",
        "    # d_w: word embedding size\r\n",
        "    batch_emb = self.embedding(batch)  # (B, S_L, d_w)\r\n",
        "    batch_emb = batch_emb.transpose(0, 1)  # (S_L, B, d_w)\r\n",
        "\r\n",
        "    packed_input = pack_padded_sequence(batch_emb, batch_lens)\r\n",
        "\r\n",
        "    h_0 = torch.zeros((num_layers * num_dirs, batch.shape[0], hidden_size))  # (num_layers*num_dirs, B, d_h) = (4, B, d_h)\r\n",
        "    packed_outputs, h_n = self.gru(packed_input, h_0)  # h_n: (4, B, d_h)\r\n",
        "    outputs = pad_packed_sequence(packed_outputs)[0]  # outputs: (S_L, B, 2d_h)\r\n",
        "    outputs = torch.tanh(self.linear(outputs))  # (S_L, B, d_h)\r\n",
        "\r\n",
        "    forward_hidden = h_n[-2, :, :]\r\n",
        "    backward_hidden = h_n[-1, :, :]\r\n",
        "    hidden = torch.tanh(self.linear(torch.cat((forward_hidden, backward_hidden), dim=-1))).unsqueeze(0)  # (1, B, d_h)\r\n",
        "\r\n",
        "    return outputs, hidden"
      ],
      "execution_count": 9,
      "outputs": []
    },
    {
      "cell_type": "code",
      "metadata": {
        "id": "ZEdSnKZkIedk"
      },
      "source": [
        "encoder = Encoder()"
      ],
      "execution_count": 10,
      "outputs": []
    },
    {
      "cell_type": "markdown",
      "metadata": {
        "id": "4w5G0uy4TiFA"
      },
      "source": [
        "### **Dot-product Attention 구현**"
      ]
    },
    {
      "cell_type": "markdown",
      "metadata": {
        "id": "8-sPMEBEcRqP"
      },
      "source": [
        "우선 대표적인 attention 형태 중 하나인 Dot-product Attention은 다음과 같이 구현할 수 있습니다.\r\n",
        "\r\n"
      ]
    },
    {
      "cell_type": "code",
      "metadata": {
        "id": "sEB-og7IcYN6"
      },
      "source": [
        "class DotAttention(nn.Module):\r\n",
        "  def __init__(self):\r\n",
        "    super().__init__()\r\n",
        "\r\n",
        "  def forward(self, decoder_hidden, encoder_outputs):  # (1, B, d_h), (S_L, B, d_h)\r\n",
        "    query = decoder_hidden.squeeze(0)  # (B, d_h)\r\n",
        "    key = encoder_outputs.transpose(0, 1)  # (B, S_L, d_h)\r\n",
        "\r\n",
        "    energy = torch.sum(torch.mul(key, query.unsqueeze(1)), dim=-1)  # (B, S_L)\r\n",
        "\r\n",
        "    attn_scores = F.softmax(energy, dim=-1)  # (B, S_L)\r\n",
        "    attn_values = torch.sum(torch.mul(encoder_outputs.transpose(0, 1), attn_scores.unsqueeze(2)), dim=1)  # (B, d_h)\r\n",
        "\r\n",
        "    return attn_values, attn_scores"
      ],
      "execution_count": 11,
      "outputs": []
    },
    {
      "cell_type": "code",
      "metadata": {
        "id": "cIARwx4IjuuG"
      },
      "source": [
        "dot_attn = DotAttention()"
      ],
      "execution_count": 12,
      "outputs": []
    },
    {
      "cell_type": "markdown",
      "metadata": {
        "id": "r94WCkbCjMnz"
      },
      "source": [
        "이제 이 attention 모듈을 가지는 Decoder 클래스를 구현하겠습니다."
      ]
    },
    {
      "cell_type": "code",
      "metadata": {
        "id": "9JycRs0ojLyg"
      },
      "source": [
        "class Decoder(nn.Module):\r\n",
        "  def __init__(self, attention):\r\n",
        "    super().__init__()\r\n",
        "\r\n",
        "    self.embedding = nn.Embedding(vocab_size, embedding_size)\r\n",
        "    self.attention = attention\r\n",
        "    self.rnn = nn.GRU(\r\n",
        "        embedding_size,\r\n",
        "        hidden_size\r\n",
        "    )\r\n",
        "    self.output_linear = nn.Linear(2*hidden_size, vocab_size)\r\n",
        "\r\n",
        "  def forward(self, batch, encoder_outputs, hidden):  # batch: (B), encoder_outputs: (L, B, d_h), hidden: (1, B, d_h)  \r\n",
        "    batch_emb = self.embedding(batch)  # (B, d_w)\r\n",
        "    batch_emb = batch_emb.unsqueeze(0)  # (1, B, d_w)\r\n",
        "\r\n",
        "    outputs, hidden = self.rnn(batch_emb, hidden)  # (1, B, d_h), (1, B, d_h)\r\n",
        "\r\n",
        "    attn_values, attn_scores = self.attention(hidden, encoder_outputs)  # (B, d_h), (B, S_L)\r\n",
        "    concat_outputs = torch.cat((outputs, attn_values.unsqueeze(0)), dim=-1)  # (1, B, 2d_h)\r\n",
        "\r\n",
        "    return self.output_linear(concat_outputs).squeeze(0), hidden  # (B, V), (1, B, d_h)"
      ],
      "execution_count": 13,
      "outputs": []
    },
    {
      "cell_type": "code",
      "metadata": {
        "id": "45GG2CvOjwzE"
      },
      "source": [
        "decoder = Decoder(dot_attn)"
      ],
      "execution_count": 14,
      "outputs": []
    },
    {
      "cell_type": "markdown",
      "metadata": {
        "id": "BZ1NzYZROrOu"
      },
      "source": [
        "### **Seq2seq 모델 구축**"
      ]
    },
    {
      "cell_type": "markdown",
      "metadata": {
        "id": "XEYvsQS0Ovp6"
      },
      "source": [
        "최종적으로 seq2seq 모델을 다음과 같이 구성할 수 있습니다."
      ]
    },
    {
      "cell_type": "code",
      "metadata": {
        "id": "M52xKNVeF37N"
      },
      "source": [
        "class Seq2seq(nn.Module):\r\n",
        "  def __init__(self, encoder, decoder):\r\n",
        "    super(Seq2seq, self).__init__()\r\n",
        "\r\n",
        "    self.encoder = encoder\r\n",
        "    self.decoder = decoder\r\n",
        "\r\n",
        "  def forward(self, src_batch, src_batch_lens, trg_batch, teacher_forcing_prob=0.5):\r\n",
        "    # src_batch: (B, S_L), src_batch_lens: (B), trg_batch: (B, T_L)\r\n",
        "\r\n",
        "    encoder_outputs, hidden = self.encoder(src_batch, src_batch_lens)  # encoder_outputs: (S_L, B, d_h), hidden: (1, B, d_h)\r\n",
        "\r\n",
        "    input_ids = trg_batch[:, 0]  # (B)\r\n",
        "    batch_size = src_batch.shape[0]\r\n",
        "    outputs = torch.zeros(trg_max_len, batch_size, vocab_size)  # (T_L, B, V)\r\n",
        "\r\n",
        "    for t in range(1, trg_max_len):\r\n",
        "      decoder_outputs, hidden = self.decoder(input_ids, encoder_outputs, hidden)  # decoder_outputs: (B, V), hidden: (1, B, d_h)\r\n",
        "\r\n",
        "      outputs[t] = decoder_outputs\r\n",
        "      _, top_ids = torch.max(decoder_outputs, dim=-1)  # top_ids: (B)\r\n",
        "\r\n",
        "      input_ids = trg_batch[:, t] if random.random() > teacher_forcing_prob else top_ids\r\n",
        "\r\n",
        "    return outputs"
      ],
      "execution_count": 15,
      "outputs": []
    },
    {
      "cell_type": "code",
      "metadata": {
        "id": "wNv7wlRgPIYS"
      },
      "source": [
        "seq2seq = Seq2seq(encoder, decoder)"
      ],
      "execution_count": 16,
      "outputs": []
    },
    {
      "cell_type": "markdown",
      "metadata": {
        "id": "kFwbnxd7PVNf"
      },
      "source": [
        "### **모델 사용해보기**"
      ]
    },
    {
      "cell_type": "markdown",
      "metadata": {
        "id": "ZIprc5N2jaV2"
      },
      "source": [
        "만든 모델로 결과를 확인해보겠습니다."
      ]
    },
    {
      "cell_type": "code",
      "metadata": {
        "id": "aKdTDHqsiLbs",
        "colab": {
          "base_uri": "https://localhost:8080/"
        },
        "outputId": "3cdd4d06-7b64-4b5c-d11c-936bd1b79011"
      },
      "source": [
        "# V: vocab size\r\n",
        "outputs = seq2seq(src_batch, src_batch_lens, trg_batch)  # (T_L, B, V)\r\n",
        "\r\n",
        "print(outputs)\r\n",
        "print(outputs.shape)"
      ],
      "execution_count": 17,
      "outputs": [
        {
          "output_type": "stream",
          "text": [
            "tensor([[[ 0.0000,  0.0000,  0.0000,  ...,  0.0000,  0.0000,  0.0000],\n",
            "         [ 0.0000,  0.0000,  0.0000,  ...,  0.0000,  0.0000,  0.0000],\n",
            "         [ 0.0000,  0.0000,  0.0000,  ...,  0.0000,  0.0000,  0.0000],\n",
            "         ...,\n",
            "         [ 0.0000,  0.0000,  0.0000,  ...,  0.0000,  0.0000,  0.0000],\n",
            "         [ 0.0000,  0.0000,  0.0000,  ...,  0.0000,  0.0000,  0.0000],\n",
            "         [ 0.0000,  0.0000,  0.0000,  ...,  0.0000,  0.0000,  0.0000]],\n",
            "\n",
            "        [[-0.0871,  0.0986, -0.0354,  ..., -0.1128, -0.0979,  0.0121],\n",
            "         [-0.0787,  0.1096, -0.0297,  ..., -0.1378, -0.1130, -0.0098],\n",
            "         [-0.0615,  0.1130, -0.0561,  ..., -0.1403, -0.0980,  0.0247],\n",
            "         ...,\n",
            "         [-0.0947,  0.1105, -0.0035,  ..., -0.1341, -0.1268, -0.0227],\n",
            "         [-0.0673,  0.0931, -0.0201,  ..., -0.1420, -0.0722, -0.0041],\n",
            "         [-0.0825,  0.1048, -0.0164,  ..., -0.1357, -0.0914, -0.0035]],\n",
            "\n",
            "        [[ 0.0555,  0.1658, -0.0340,  ...,  0.0359, -0.1622, -0.0545],\n",
            "         [-0.0982, -0.0405,  0.0379,  ..., -0.0165, -0.1046,  0.1007],\n",
            "         [-0.0511,  0.0590, -0.1002,  ..., -0.1461, -0.0874,  0.1374],\n",
            "         ...,\n",
            "         [ 0.0538,  0.1745, -0.0079,  ...,  0.0078, -0.1824, -0.0750],\n",
            "         [ 0.0341,  0.1184,  0.0244,  ..., -0.0635, -0.1299,  0.0997],\n",
            "         [-0.0416,  0.0153, -0.0349,  ...,  0.0680, -0.1043,  0.0338]],\n",
            "\n",
            "        ...,\n",
            "\n",
            "        [[-0.1020,  0.2475,  0.0495,  ...,  0.0527, -0.2437,  0.2011],\n",
            "         [-0.0722,  0.1320,  0.0848,  ..., -0.0382, -0.2239,  0.1777],\n",
            "         [-0.0239,  0.1499, -0.0231,  ...,  0.0548, -0.1982,  0.0707],\n",
            "         ...,\n",
            "         [-0.1440,  0.1996,  0.0192,  ...,  0.0022, -0.1505,  0.1224],\n",
            "         [-0.1206,  0.2338, -0.0052,  ..., -0.0663, -0.2251,  0.1082],\n",
            "         [-0.1204,  0.2318, -0.0151,  ..., -0.0680, -0.2139,  0.1174]],\n",
            "\n",
            "        [[ 0.0068,  0.1560,  0.0747,  ...,  0.0934, -0.1496,  0.1827],\n",
            "         [ 0.0388,  0.0887,  0.0996,  ...,  0.0449, -0.1409,  0.1811],\n",
            "         [-0.1398,  0.2030,  0.0192,  ...,  0.0764, -0.1079,  0.0710],\n",
            "         ...,\n",
            "         [-0.0358,  0.0714,  0.0062,  ...,  0.0306, -0.1024,  0.0409],\n",
            "         [-0.1047,  0.1885, -0.0471,  ..., -0.1588, -0.2108,  0.0220],\n",
            "         [-0.1052,  0.1861, -0.0534,  ..., -0.1587, -0.2059,  0.0274]],\n",
            "\n",
            "        [[ 0.0405,  0.1187,  0.0930,  ...,  0.1143, -0.1211,  0.1725],\n",
            "         [ 0.0436,  0.0144,  0.0472,  ...,  0.0482, -0.1172,  0.0797],\n",
            "         [-0.1474,  0.1856, -0.0289,  ..., -0.1074, -0.1412,  0.0308],\n",
            "         ...,\n",
            "         [-0.0517,  0.1446,  0.0115,  ...,  0.0584, -0.0071,  0.0380],\n",
            "         [-0.0605,  0.0419,  0.0401,  ...,  0.0123, -0.0682,  0.1162],\n",
            "         [ 0.0327,  0.1447, -0.0075,  ..., -0.0598, -0.2130,  0.1107]]],\n",
            "       grad_fn=<CopySlices>)\n",
            "torch.Size([22, 10, 100])\n"
          ],
          "name": "stdout"
        }
      ]
    },
    {
      "cell_type": "code",
      "metadata": {
        "id": "R-wAEwi9dy0Q"
      },
      "source": [
        "sample_sent = [4, 10, 88, 46, 72, 34, 14, 51]\r\n",
        "sample_len = len(sample_sent)\r\n",
        "\r\n",
        "sample_batch = torch.LongTensor(sample_sent).unsqueeze(0)  # (1, L)\r\n",
        "sample_batch_len = torch.LongTensor([sample_len])  # (1)\r\n",
        "\r\n",
        "encoder_output, hidden = seq2seq.encoder(sample_batch, sample_batch_len)  # hidden: (4, 1, d_h)"
      ],
      "execution_count": 18,
      "outputs": []
    },
    {
      "cell_type": "code",
      "metadata": {
        "id": "-ywRSK1iTn1U"
      },
      "source": [
        "input_id = torch.LongTensor([sos_id]) # (1)\r\n",
        "output = []\r\n",
        "\r\n",
        "for t in range(1, trg_max_len):\r\n",
        "  decoder_output, hidden = seq2seq.decoder(input_id, encoder_output, hidden)  # decoder_output: (1, V), hidden: (4, 1, d_h)\r\n",
        "\r\n",
        "  _, top_id = torch.max(decoder_output, dim=-1)  # top_ids: (1)\r\n",
        "\r\n",
        "  if top_id == eos_id:\r\n",
        "    break\r\n",
        "  else:\r\n",
        "    output += top_id.tolist()\r\n",
        "    input_id = top_id"
      ],
      "execution_count": 19,
      "outputs": []
    },
    {
      "cell_type": "code",
      "metadata": {
        "id": "pP_A4ZrhTXik",
        "colab": {
          "base_uri": "https://localhost:8080/"
        },
        "outputId": "957d058f-4822-4e06-dcd8-0249d87fa284"
      },
      "source": [
        "output"
      ],
      "execution_count": 20,
      "outputs": [
        {
          "output_type": "execute_result",
          "data": {
            "text/plain": [
              "[85, 77, 97]"
            ]
          },
          "metadata": {
            "tags": []
          },
          "execution_count": 20
        }
      ]
    },
    {
      "cell_type": "markdown",
      "metadata": {
        "id": "x4TZfceq3Nbs"
      },
      "source": [
        "### **Concat Attention 구현**"
      ]
    },
    {
      "cell_type": "markdown",
      "metadata": {
        "id": "FYxpAQjm3Y9U"
      },
      "source": [
        "Bahdanau Attention이라고도 불리는 Concat Attention을 구현해보도록 하겠습니다.  \r\n",
        "\r\n",
        "\r\n",
        "*   `self.w`: Concat한 query와 key 벡터를 1차적으로 linear transformation.\r\n",
        "*   `self.v`: Attention logit 값을 계산.\r\n",
        "\r\n"
      ]
    },
    {
      "cell_type": "code",
      "metadata": {
        "id": "MHRfFeIzJJU7"
      },
      "source": [
        "class ConcatAttention(nn.Module):\r\n",
        "  def __init__(self):\r\n",
        "    super().__init__()\r\n",
        "\r\n",
        "    self.w = nn.Linear(2*hidden_size, hidden_size, bias=False)\r\n",
        "    self.v = nn.Linear(hidden_size, 1, bias=False)\r\n",
        "\r\n",
        "  def forward(self, decoder_hidden, encoder_outputs):  # (1, B, d_h), (S_L, B, d_h)\r\n",
        "    src_max_len = encoder_outputs.shape[0]\r\n",
        "\r\n",
        "    decoder_hidden = decoder_hidden.transpose(0, 1).repeat(1, src_max_len, 1)  # (B, S_L, d_h)\r\n",
        "    encoder_outputs = encoder_outputs.transpose(0, 1)  # (B, S_L, d_h)\r\n",
        "\r\n",
        "    concat_hiddens = torch.cat((decoder_hidden, encoder_outputs), dim=2)  # (B, S_L, 2d_h)\r\n",
        "    energy = torch.tanh(self.w(concat_hiddens))  # (B, S_L, d_h)\r\n",
        "\r\n",
        "    attn_scores = F.softmax(self.v(energy), dim=1)  # (B, S_L, 1)\r\n",
        "    attn_values = torch.sum(torch.mul(encoder_outputs, attn_scores), dim=1)  # (B, d_h)\r\n",
        "\r\n",
        "    return attn_values, attn_scores"
      ],
      "execution_count": 21,
      "outputs": []
    },
    {
      "cell_type": "code",
      "metadata": {
        "id": "utm4b5uzNS40"
      },
      "source": [
        "concat_attn = ConcatAttention()"
      ],
      "execution_count": 22,
      "outputs": []
    },
    {
      "cell_type": "markdown",
      "metadata": {
        "id": "CBBCV9G-M1cw"
      },
      "source": [
        "마찬가지로 decoder를 마저 구현하겠습니다."
      ]
    },
    {
      "cell_type": "code",
      "metadata": {
        "id": "FnppmsXNSaGP"
      },
      "source": [
        "class Decoder(nn.Module):\r\n",
        "  def __init__(self, attention):\r\n",
        "    super().__init__()\r\n",
        "\r\n",
        "    self.embedding = nn.Embedding(vocab_size, embedding_size)\r\n",
        "    self.attention = attention\r\n",
        "    self.rnn = nn.GRU(\r\n",
        "        embedding_size + hidden_size,\r\n",
        "        hidden_size\r\n",
        "    )\r\n",
        "    self.output_linear = nn.Linear(hidden_size, vocab_size)\r\n",
        "\r\n",
        "  def forward(self, batch, encoder_outputs, hidden):  # batch: (B), encoder_outputs: (S_L, B, d_h), hidden: (1, B, d_h)  \r\n",
        "    batch_emb = self.embedding(batch)  # (B, d_w)\r\n",
        "    batch_emb = batch_emb.unsqueeze(0)  # (1, B, d_w)\r\n",
        "\r\n",
        "    attn_values, attn_scores = self.attention(hidden, encoder_outputs)  # (B, d_h), (B, S_L)\r\n",
        "\r\n",
        "    concat_emb = torch.cat((batch_emb, attn_values.unsqueeze(0)), dim=-1)  # (1, B, d_w+d_h)\r\n",
        "\r\n",
        "    outputs, hidden = self.rnn(concat_emb, hidden)  # (1, B, d_h), (1, B, d_h)\r\n",
        "\r\n",
        "    return self.output_linear(outputs).squeeze(0), hidden  # (B, V), (1, B, d_h)"
      ],
      "execution_count": 23,
      "outputs": []
    },
    {
      "cell_type": "code",
      "metadata": {
        "id": "4gA4GJqgOoMT"
      },
      "source": [
        "decoder = Decoder(concat_attn)"
      ],
      "execution_count": 24,
      "outputs": []
    },
    {
      "cell_type": "code",
      "metadata": {
        "id": "AQI9J0VGj4cc"
      },
      "source": [
        "seq2seq = Seq2seq(encoder, decoder)"
      ],
      "execution_count": 25,
      "outputs": []
    },
    {
      "cell_type": "code",
      "metadata": {
        "id": "D6suDtTxj4ce",
        "colab": {
          "base_uri": "https://localhost:8080/"
        },
        "outputId": "b91d69d1-98d4-4ec2-f72c-6ac77dd27487"
      },
      "source": [
        "outputs = seq2seq(src_batch, src_batch_lens, trg_batch)\r\n",
        "\r\n",
        "print(outputs)\r\n",
        "print(outputs.shape)"
      ],
      "execution_count": 26,
      "outputs": [
        {
          "output_type": "stream",
          "text": [
            "tensor([[[ 0.0000,  0.0000,  0.0000,  ...,  0.0000,  0.0000,  0.0000],\n",
            "         [ 0.0000,  0.0000,  0.0000,  ...,  0.0000,  0.0000,  0.0000],\n",
            "         [ 0.0000,  0.0000,  0.0000,  ...,  0.0000,  0.0000,  0.0000],\n",
            "         ...,\n",
            "         [ 0.0000,  0.0000,  0.0000,  ...,  0.0000,  0.0000,  0.0000],\n",
            "         [ 0.0000,  0.0000,  0.0000,  ...,  0.0000,  0.0000,  0.0000],\n",
            "         [ 0.0000,  0.0000,  0.0000,  ...,  0.0000,  0.0000,  0.0000]],\n",
            "\n",
            "        [[ 0.3527,  0.0878,  0.0962,  ...,  0.1621, -0.1219, -0.0475],\n",
            "         [ 0.3199,  0.0613,  0.0998,  ...,  0.1380, -0.1614, -0.0230],\n",
            "         [ 0.3264,  0.0870,  0.0583,  ...,  0.1527, -0.1345, -0.0119],\n",
            "         ...,\n",
            "         [ 0.3337,  0.1395,  0.1236,  ...,  0.1651, -0.1456,  0.0068],\n",
            "         [ 0.3386,  0.1088,  0.0801,  ...,  0.1402, -0.1284, -0.0238],\n",
            "         [ 0.3353,  0.0901,  0.1145,  ...,  0.1582, -0.1354, -0.0298]],\n",
            "\n",
            "        [[ 0.1490,  0.2485, -0.1962,  ...,  0.0236, -0.0780,  0.0687],\n",
            "         [ 0.2929, -0.1832,  0.1802,  ...,  0.2600, -0.2017,  0.1454],\n",
            "         [-0.0646, -0.1973,  0.0047,  ...,  0.1322, -0.1496, -0.0646],\n",
            "         ...,\n",
            "         [ 0.1225,  0.2816, -0.1864,  ...,  0.0236, -0.0985,  0.0839],\n",
            "         [ 0.1722,  0.0865,  0.0887,  ...,  0.3420, -0.0448, -0.0276],\n",
            "         [ 0.1307, -0.0038, -0.0561,  ...,  0.0647, -0.0673,  0.1864]],\n",
            "\n",
            "        ...,\n",
            "\n",
            "        [[ 0.2447, -0.1611, -0.0283,  ...,  0.1491, -0.1287,  0.0045],\n",
            "         [ 0.2193, -0.1544, -0.0372,  ...,  0.1490, -0.1353, -0.0066],\n",
            "         [ 0.0957, -0.1024, -0.1036,  ...,  0.1343, -0.1226,  0.0593],\n",
            "         ...,\n",
            "         [ 0.2346, -0.1368, -0.0260,  ...,  0.1469, -0.1275, -0.0180],\n",
            "         [ 0.1118, -0.0752,  0.0050,  ...,  0.2016, -0.2215,  0.0340],\n",
            "         [ 0.2250, -0.1317, -0.0219,  ...,  0.1427, -0.1236, -0.0081]],\n",
            "\n",
            "        [[ 0.2677, -0.1774, -0.0409,  ...,  0.1957, -0.1512,  0.0243],\n",
            "         [ 0.2458, -0.1800, -0.0499,  ...,  0.1982, -0.1540,  0.0157],\n",
            "         [ 0.1887, -0.1723, -0.0803,  ...,  0.2031, -0.1553,  0.0455],\n",
            "         ...,\n",
            "         [ 0.2525, -0.1594, -0.0387,  ...,  0.1946, -0.1518,  0.0043],\n",
            "         [ 0.1723, -0.1446, -0.0343,  ...,  0.2168, -0.2227,  0.0250],\n",
            "         [ 0.2475, -0.1549, -0.0333,  ...,  0.1908, -0.1469,  0.0128]],\n",
            "\n",
            "        [[ 0.2870, -0.0616, -0.1137,  ...,  0.0028, -0.1595, -0.0417],\n",
            "         [ 0.2676, -0.0614, -0.1263,  ...,  0.0077, -0.1635, -0.0469],\n",
            "         [ 0.2498, -0.0481, -0.1429,  ...,  0.0221, -0.1644, -0.0456],\n",
            "         ...,\n",
            "         [ 0.2694, -0.0416, -0.1134,  ...,  0.0012, -0.1641, -0.0607],\n",
            "         [ 0.2267, -0.0394, -0.1176,  ...,  0.0094, -0.1987, -0.0619],\n",
            "         [ 0.2661, -0.0382, -0.1059,  ..., -0.0005, -0.1581, -0.0521]]],\n",
            "       grad_fn=<CopySlices>)\n",
            "torch.Size([22, 10, 100])\n"
          ],
          "name": "stdout"
        }
      ]
    },
    {
      "cell_type": "code",
      "metadata": {
        "id": "Vs1XFI1EKj35"
      },
      "source": [
        ""
      ],
      "execution_count": null,
      "outputs": []
    }
  ]
}
