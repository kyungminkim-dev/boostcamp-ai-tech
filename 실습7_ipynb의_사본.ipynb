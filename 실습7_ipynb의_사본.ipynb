{
  "nbformat": 4,
  "nbformat_minor": 0,
  "metadata": {
    "accelerator": "GPU",
    "colab": {
      "name": "실습7.ipynb의 사본",
      "provenance": [],
      "collapsed_sections": [],
      "include_colab_link": true
    },
    "kernelspec": {
      "display_name": "Python 3",
      "name": "python3"
    },
    "widgets": {
      "application/vnd.jupyter.widget-state+json": {
        "240f1253b7e542fb8a10fc74e32154d4": {
          "model_module": "@jupyter-widgets/controls",
          "model_name": "HBoxModel",
          "state": {
            "_view_name": "HBoxView",
            "_dom_classes": [],
            "_model_name": "HBoxModel",
            "_view_module": "@jupyter-widgets/controls",
            "_model_module_version": "1.5.0",
            "_view_count": null,
            "_view_module_version": "1.5.0",
            "box_style": "",
            "layout": "IPY_MODEL_d3353cc3e7c446b2980a2977c8519a5b",
            "_model_module": "@jupyter-widgets/controls",
            "children": [
              "IPY_MODEL_dc43ea1877304a0789b23ed694e72271",
              "IPY_MODEL_135b3432e73849a0a0beced164550b1d"
            ]
          }
        },
        "d3353cc3e7c446b2980a2977c8519a5b": {
          "model_module": "@jupyter-widgets/base",
          "model_name": "LayoutModel",
          "state": {
            "_view_name": "LayoutView",
            "grid_template_rows": null,
            "right": null,
            "justify_content": null,
            "_view_module": "@jupyter-widgets/base",
            "overflow": null,
            "_model_module_version": "1.2.0",
            "_view_count": null,
            "flex_flow": null,
            "width": null,
            "min_width": null,
            "border": null,
            "align_items": null,
            "bottom": null,
            "_model_module": "@jupyter-widgets/base",
            "top": null,
            "grid_column": null,
            "overflow_y": null,
            "overflow_x": null,
            "grid_auto_flow": null,
            "grid_area": null,
            "grid_template_columns": null,
            "flex": null,
            "_model_name": "LayoutModel",
            "justify_items": null,
            "grid_row": null,
            "max_height": null,
            "align_content": null,
            "visibility": null,
            "align_self": null,
            "height": null,
            "min_height": null,
            "padding": null,
            "grid_auto_rows": null,
            "grid_gap": null,
            "max_width": null,
            "order": null,
            "_view_module_version": "1.2.0",
            "grid_template_areas": null,
            "object_position": null,
            "object_fit": null,
            "grid_auto_columns": null,
            "margin": null,
            "display": null,
            "left": null
          }
        },
        "dc43ea1877304a0789b23ed694e72271": {
          "model_module": "@jupyter-widgets/controls",
          "model_name": "FloatProgressModel",
          "state": {
            "_view_name": "ProgressView",
            "style": "IPY_MODEL_0c4823d17a114cbf95f70ec4f87f0d0b",
            "_dom_classes": [],
            "description": "Computing transition probabilities: 100%",
            "_model_name": "FloatProgressModel",
            "bar_style": "success",
            "max": 77,
            "_view_module": "@jupyter-widgets/controls",
            "_model_module_version": "1.5.0",
            "value": 77,
            "_view_count": null,
            "_view_module_version": "1.5.0",
            "orientation": "horizontal",
            "min": 0,
            "description_tooltip": null,
            "_model_module": "@jupyter-widgets/controls",
            "layout": "IPY_MODEL_0cfee3f0eb6646bd89f4cf7f001b3f40"
          }
        },
        "135b3432e73849a0a0beced164550b1d": {
          "model_module": "@jupyter-widgets/controls",
          "model_name": "HTMLModel",
          "state": {
            "_view_name": "HTMLView",
            "style": "IPY_MODEL_64ccb64938714f55a912c49fb58bc9dd",
            "_dom_classes": [],
            "description": "",
            "_model_name": "HTMLModel",
            "placeholder": "​",
            "_view_module": "@jupyter-widgets/controls",
            "_model_module_version": "1.5.0",
            "value": " 77/77 [00:00&lt;00:00, 1036.21it/s]",
            "_view_count": null,
            "_view_module_version": "1.5.0",
            "description_tooltip": null,
            "_model_module": "@jupyter-widgets/controls",
            "layout": "IPY_MODEL_e470253b8e4841f99fb0f7cd09f83289"
          }
        },
        "0c4823d17a114cbf95f70ec4f87f0d0b": {
          "model_module": "@jupyter-widgets/controls",
          "model_name": "ProgressStyleModel",
          "state": {
            "_view_name": "StyleView",
            "_model_name": "ProgressStyleModel",
            "description_width": "initial",
            "_view_module": "@jupyter-widgets/base",
            "_model_module_version": "1.5.0",
            "_view_count": null,
            "_view_module_version": "1.2.0",
            "bar_color": null,
            "_model_module": "@jupyter-widgets/controls"
          }
        },
        "0cfee3f0eb6646bd89f4cf7f001b3f40": {
          "model_module": "@jupyter-widgets/base",
          "model_name": "LayoutModel",
          "state": {
            "_view_name": "LayoutView",
            "grid_template_rows": null,
            "right": null,
            "justify_content": null,
            "_view_module": "@jupyter-widgets/base",
            "overflow": null,
            "_model_module_version": "1.2.0",
            "_view_count": null,
            "flex_flow": null,
            "width": null,
            "min_width": null,
            "border": null,
            "align_items": null,
            "bottom": null,
            "_model_module": "@jupyter-widgets/base",
            "top": null,
            "grid_column": null,
            "overflow_y": null,
            "overflow_x": null,
            "grid_auto_flow": null,
            "grid_area": null,
            "grid_template_columns": null,
            "flex": null,
            "_model_name": "LayoutModel",
            "justify_items": null,
            "grid_row": null,
            "max_height": null,
            "align_content": null,
            "visibility": null,
            "align_self": null,
            "height": null,
            "min_height": null,
            "padding": null,
            "grid_auto_rows": null,
            "grid_gap": null,
            "max_width": null,
            "order": null,
            "_view_module_version": "1.2.0",
            "grid_template_areas": null,
            "object_position": null,
            "object_fit": null,
            "grid_auto_columns": null,
            "margin": null,
            "display": null,
            "left": null
          }
        },
        "64ccb64938714f55a912c49fb58bc9dd": {
          "model_module": "@jupyter-widgets/controls",
          "model_name": "DescriptionStyleModel",
          "state": {
            "_view_name": "StyleView",
            "_model_name": "DescriptionStyleModel",
            "description_width": "",
            "_view_module": "@jupyter-widgets/base",
            "_model_module_version": "1.5.0",
            "_view_count": null,
            "_view_module_version": "1.2.0",
            "_model_module": "@jupyter-widgets/controls"
          }
        },
        "e470253b8e4841f99fb0f7cd09f83289": {
          "model_module": "@jupyter-widgets/base",
          "model_name": "LayoutModel",
          "state": {
            "_view_name": "LayoutView",
            "grid_template_rows": null,
            "right": null,
            "justify_content": null,
            "_view_module": "@jupyter-widgets/base",
            "overflow": null,
            "_model_module_version": "1.2.0",
            "_view_count": null,
            "flex_flow": null,
            "width": null,
            "min_width": null,
            "border": null,
            "align_items": null,
            "bottom": null,
            "_model_module": "@jupyter-widgets/base",
            "top": null,
            "grid_column": null,
            "overflow_y": null,
            "overflow_x": null,
            "grid_auto_flow": null,
            "grid_area": null,
            "grid_template_columns": null,
            "flex": null,
            "_model_name": "LayoutModel",
            "justify_items": null,
            "grid_row": null,
            "max_height": null,
            "align_content": null,
            "visibility": null,
            "align_self": null,
            "height": null,
            "min_height": null,
            "padding": null,
            "grid_auto_rows": null,
            "grid_gap": null,
            "max_width": null,
            "order": null,
            "_view_module_version": "1.2.0",
            "grid_template_areas": null,
            "object_position": null,
            "object_fit": null,
            "grid_auto_columns": null,
            "margin": null,
            "display": null,
            "left": null
          }
        },
        "fe6efdb8e7d84432886887a645e557e3": {
          "model_module": "@jupyter-widgets/controls",
          "model_name": "HBoxModel",
          "state": {
            "_view_name": "HBoxView",
            "_dom_classes": [],
            "_model_name": "HBoxModel",
            "_view_module": "@jupyter-widgets/controls",
            "_model_module_version": "1.5.0",
            "_view_count": null,
            "_view_module_version": "1.5.0",
            "box_style": "",
            "layout": "IPY_MODEL_9c231411ce1d4777bde3b5eed68ecd89",
            "_model_module": "@jupyter-widgets/controls",
            "children": [
              "IPY_MODEL_b3a0f449d7c0440ea1ef1bbdb3d0b1bc",
              "IPY_MODEL_1a8955d6e109483abb335a0c27a2b798"
            ]
          }
        },
        "9c231411ce1d4777bde3b5eed68ecd89": {
          "model_module": "@jupyter-widgets/base",
          "model_name": "LayoutModel",
          "state": {
            "_view_name": "LayoutView",
            "grid_template_rows": null,
            "right": null,
            "justify_content": null,
            "_view_module": "@jupyter-widgets/base",
            "overflow": null,
            "_model_module_version": "1.2.0",
            "_view_count": null,
            "flex_flow": null,
            "width": null,
            "min_width": null,
            "border": null,
            "align_items": null,
            "bottom": null,
            "_model_module": "@jupyter-widgets/base",
            "top": null,
            "grid_column": null,
            "overflow_y": null,
            "overflow_x": null,
            "grid_auto_flow": null,
            "grid_area": null,
            "grid_template_columns": null,
            "flex": null,
            "_model_name": "LayoutModel",
            "justify_items": null,
            "grid_row": null,
            "max_height": null,
            "align_content": null,
            "visibility": null,
            "align_self": null,
            "height": null,
            "min_height": null,
            "padding": null,
            "grid_auto_rows": null,
            "grid_gap": null,
            "max_width": null,
            "order": null,
            "_view_module_version": "1.2.0",
            "grid_template_areas": null,
            "object_position": null,
            "object_fit": null,
            "grid_auto_columns": null,
            "margin": null,
            "display": null,
            "left": null
          }
        },
        "b3a0f449d7c0440ea1ef1bbdb3d0b1bc": {
          "model_module": "@jupyter-widgets/controls",
          "model_name": "FloatProgressModel",
          "state": {
            "_view_name": "ProgressView",
            "style": "IPY_MODEL_a691396e6cc840c7994bd2978caa541c",
            "_dom_classes": [],
            "description": "Computing transition probabilities: 100%",
            "_model_name": "FloatProgressModel",
            "bar_style": "success",
            "max": 2708,
            "_view_module": "@jupyter-widgets/controls",
            "_model_module_version": "1.5.0",
            "value": 2708,
            "_view_count": null,
            "_view_module_version": "1.5.0",
            "orientation": "horizontal",
            "min": 0,
            "description_tooltip": null,
            "_model_module": "@jupyter-widgets/controls",
            "layout": "IPY_MODEL_e1e9f0afadd64fc4a7999fd9e8fd3f40"
          }
        },
        "1a8955d6e109483abb335a0c27a2b798": {
          "model_module": "@jupyter-widgets/controls",
          "model_name": "HTMLModel",
          "state": {
            "_view_name": "HTMLView",
            "style": "IPY_MODEL_24eb984a4d6d46b3bcc9702dd9d9a432",
            "_dom_classes": [],
            "description": "",
            "_model_name": "HTMLModel",
            "placeholder": "​",
            "_view_module": "@jupyter-widgets/controls",
            "_model_module_version": "1.5.0",
            "value": " 2708/2708 [00:00&lt;00:00, 3110.47it/s]",
            "_view_count": null,
            "_view_module_version": "1.5.0",
            "description_tooltip": null,
            "_model_module": "@jupyter-widgets/controls",
            "layout": "IPY_MODEL_97915454221648dd8098d78ca7c28f49"
          }
        },
        "a691396e6cc840c7994bd2978caa541c": {
          "model_module": "@jupyter-widgets/controls",
          "model_name": "ProgressStyleModel",
          "state": {
            "_view_name": "StyleView",
            "_model_name": "ProgressStyleModel",
            "description_width": "initial",
            "_view_module": "@jupyter-widgets/base",
            "_model_module_version": "1.5.0",
            "_view_count": null,
            "_view_module_version": "1.2.0",
            "bar_color": null,
            "_model_module": "@jupyter-widgets/controls"
          }
        },
        "e1e9f0afadd64fc4a7999fd9e8fd3f40": {
          "model_module": "@jupyter-widgets/base",
          "model_name": "LayoutModel",
          "state": {
            "_view_name": "LayoutView",
            "grid_template_rows": null,
            "right": null,
            "justify_content": null,
            "_view_module": "@jupyter-widgets/base",
            "overflow": null,
            "_model_module_version": "1.2.0",
            "_view_count": null,
            "flex_flow": null,
            "width": null,
            "min_width": null,
            "border": null,
            "align_items": null,
            "bottom": null,
            "_model_module": "@jupyter-widgets/base",
            "top": null,
            "grid_column": null,
            "overflow_y": null,
            "overflow_x": null,
            "grid_auto_flow": null,
            "grid_area": null,
            "grid_template_columns": null,
            "flex": null,
            "_model_name": "LayoutModel",
            "justify_items": null,
            "grid_row": null,
            "max_height": null,
            "align_content": null,
            "visibility": null,
            "align_self": null,
            "height": null,
            "min_height": null,
            "padding": null,
            "grid_auto_rows": null,
            "grid_gap": null,
            "max_width": null,
            "order": null,
            "_view_module_version": "1.2.0",
            "grid_template_areas": null,
            "object_position": null,
            "object_fit": null,
            "grid_auto_columns": null,
            "margin": null,
            "display": null,
            "left": null
          }
        },
        "24eb984a4d6d46b3bcc9702dd9d9a432": {
          "model_module": "@jupyter-widgets/controls",
          "model_name": "DescriptionStyleModel",
          "state": {
            "_view_name": "StyleView",
            "_model_name": "DescriptionStyleModel",
            "description_width": "",
            "_view_module": "@jupyter-widgets/base",
            "_model_module_version": "1.5.0",
            "_view_count": null,
            "_view_module_version": "1.2.0",
            "_model_module": "@jupyter-widgets/controls"
          }
        },
        "97915454221648dd8098d78ca7c28f49": {
          "model_module": "@jupyter-widgets/base",
          "model_name": "LayoutModel",
          "state": {
            "_view_name": "LayoutView",
            "grid_template_rows": null,
            "right": null,
            "justify_content": null,
            "_view_module": "@jupyter-widgets/base",
            "overflow": null,
            "_model_module_version": "1.2.0",
            "_view_count": null,
            "flex_flow": null,
            "width": null,
            "min_width": null,
            "border": null,
            "align_items": null,
            "bottom": null,
            "_model_module": "@jupyter-widgets/base",
            "top": null,
            "grid_column": null,
            "overflow_y": null,
            "overflow_x": null,
            "grid_auto_flow": null,
            "grid_area": null,
            "grid_template_columns": null,
            "flex": null,
            "_model_name": "LayoutModel",
            "justify_items": null,
            "grid_row": null,
            "max_height": null,
            "align_content": null,
            "visibility": null,
            "align_self": null,
            "height": null,
            "min_height": null,
            "padding": null,
            "grid_auto_rows": null,
            "grid_gap": null,
            "max_width": null,
            "order": null,
            "_view_module_version": "1.2.0",
            "grid_template_areas": null,
            "object_position": null,
            "object_fit": null,
            "grid_auto_columns": null,
            "margin": null,
            "display": null,
            "left": null
          }
        }
      }
    }
  },
  "cells": [
    {
      "cell_type": "markdown",
      "metadata": {
        "id": "view-in-github",
        "colab_type": "text"
      },
      "source": [
        "<a href=\"https://colab.research.google.com/github/kyungminkim-dev/boostcamp-ai-tech/blob/main/%EC%8B%A4%EC%8A%B57_ipynb%EC%9D%98_%EC%82%AC%EB%B3%B8.ipynb\" target=\"_parent\"><img src=\"https://colab.research.google.com/assets/colab-badge.svg\" alt=\"Open In Colab\"/></a>"
      ]
    },
    {
      "cell_type": "markdown",
      "metadata": {
        "id": "5Aq9cIiJDZ6Q"
      },
      "source": [
        "**Lab 7 : Node2Vec**\r\n",
        "- Instuctor : Kijung Shin\r\n",
        "- Teaching Assistants : Hyunju Lee(main), Deukryeol Yoon, Shinhwan Kang \r\n",
        "- 본 실습에서는 random walk 기반 network embedding 방법 중 하나인 node2vec 알고리즘을 사용하여 clustering, node classification과 같은 여러 downstream task들을 수행해본다.\r\n",
        "\r\n",
        "* 학습 목표\r\n",
        "\r\n",
        "> 1. node2vec library의 사용법을 익힌다.\r\n",
        "2. node2vec embedding 벡터를 사용하여 여러 downstream tasks(clustering, node classification)를 수행하는 방법을 익힌다.\r\n",
        "\r\n",
        "\r\n"
      ]
    },
    {
      "cell_type": "markdown",
      "metadata": {
        "id": "bHiUHDnSskhN"
      },
      "source": [
        "**Clustering with Node2Vec**\r\n"
      ]
    },
    {
      "cell_type": "code",
      "metadata": {
        "colab": {
          "base_uri": "https://localhost:8080/"
        },
        "id": "lnXQW6Jae6yr",
        "outputId": "8798c42d-9670-4d45-fe3f-1eece16cc3b4"
      },
      "source": [
        "!pip install networkx\r\n",
        "!pip install node2vec"
      ],
      "execution_count": 1,
      "outputs": [
        {
          "output_type": "stream",
          "text": [
            "Requirement already satisfied: networkx in /usr/local/lib/python3.7/dist-packages (2.5)\n",
            "Requirement already satisfied: decorator>=4.3.0 in /usr/local/lib/python3.7/dist-packages (from networkx) (4.4.2)\n",
            "Collecting node2vec\n",
            "  Downloading https://files.pythonhosted.org/packages/47/60/af8b5f2ca767e4ee56366886cba1430aab0b1a1c0b188df244098e33ea19/node2vec-0.4.1.tar.gz\n",
            "Requirement already satisfied: networkx in /usr/local/lib/python3.7/dist-packages (from node2vec) (2.5)\n",
            "Requirement already satisfied: gensim in /usr/local/lib/python3.7/dist-packages (from node2vec) (3.6.0)\n",
            "Requirement already satisfied: numpy in /usr/local/lib/python3.7/dist-packages (from node2vec) (1.19.5)\n",
            "Requirement already satisfied: tqdm in /usr/local/lib/python3.7/dist-packages (from node2vec) (4.41.1)\n",
            "Requirement already satisfied: joblib>=0.13.2 in /usr/local/lib/python3.7/dist-packages (from node2vec) (1.0.1)\n",
            "Requirement already satisfied: decorator>=4.3.0 in /usr/local/lib/python3.7/dist-packages (from networkx->node2vec) (4.4.2)\n",
            "Requirement already satisfied: scipy>=0.18.1 in /usr/local/lib/python3.7/dist-packages (from gensim->node2vec) (1.4.1)\n",
            "Requirement already satisfied: six>=1.5.0 in /usr/local/lib/python3.7/dist-packages (from gensim->node2vec) (1.15.0)\n",
            "Requirement already satisfied: smart-open>=1.2.1 in /usr/local/lib/python3.7/dist-packages (from gensim->node2vec) (4.2.0)\n",
            "Building wheels for collected packages: node2vec\n",
            "  Building wheel for node2vec (setup.py) ... \u001b[?25l\u001b[?25hdone\n",
            "  Created wheel for node2vec: filename=node2vec-0.4.1-cp37-none-any.whl size=5734 sha256=d3c84852fa84f051e78c468e1d7ee5c7d2f1323dfc6634cf8f232efb33a2a348\n",
            "  Stored in directory: /root/.cache/pip/wheels/b3/59/ea/22e964f74bb864c5423cf82027a4d69dd65bac0bbf95fd46f5\n",
            "Successfully built node2vec\n",
            "Installing collected packages: node2vec\n",
            "Successfully installed node2vec-0.4.1\n"
          ],
          "name": "stdout"
        }
      ]
    },
    {
      "cell_type": "code",
      "metadata": {
        "id": "MT_WeNIqe8qF"
      },
      "source": [
        "import networkx as nx\r\n",
        "from node2vec import Node2Vec\r\n",
        "from matplotlib import pyplot as plt"
      ],
      "execution_count": 2,
      "outputs": []
    },
    {
      "cell_type": "code",
      "metadata": {
        "colab": {
          "base_uri": "https://localhost:8080/"
        },
        "id": "wqH3McyjCMxX",
        "outputId": "020dd104-0e93-4ffe-ee41-95e2e4836012"
      },
      "source": [
        "import os, sys \r\n",
        "from google.colab import drive \r\n",
        "\r\n",
        "### 해당 코드 실행 시 colab에서 실행중인 폴더의 /content/drive/My Drive가 구글 드라이브에 연결됨\r\n",
        "\r\n",
        "drive.mount('/content/drive')\r\n"
      ],
      "execution_count": 3,
      "outputs": [
        {
          "output_type": "stream",
          "text": [
            "Mounted at /content/drive\n"
          ],
          "name": "stdout"
        }
      ]
    },
    {
      "cell_type": "code",
      "metadata": {
        "colab": {
          "base_uri": "https://localhost:8080/",
          "height": 69
        },
        "id": "Z6FTeAyz3KsC",
        "outputId": "dcd1b187-30d2-4a11-c5ac-747e85f710d5"
      },
      "source": [
        "###################### Dataset Description ##########################\r\n",
        "'''\r\n",
        "    [Reference]\r\n",
        "        title={The Network Data Repository with Interactive Graph Analytics and Visualization},\r\n",
        "        author={Ryan A. Rossi and Nesreen K. Ahmed},\r\n",
        "        booktitle={AAAI},\r\n",
        "        url={http://networkrepository.com},\r\n",
        "        year={2015}\r\n",
        "\r\n",
        "'''\r\n",
        "###### lesmis.mtx : <node 1> <node 2> <weight> ######################\r\n",
        "###### weight : 레미제라블에 동시에 등장한 등장인물의 횟수 ##########\r\n",
        "#####################################################################"
      ],
      "execution_count": 4,
      "outputs": [
        {
          "output_type": "execute_result",
          "data": {
            "application/vnd.google.colaboratory.intrinsic+json": {
              "type": "string"
            },
            "text/plain": [
              "'\\n    [Reference]\\n        title={The Network Data Repository with Interactive Graph Analytics and Visualization},\\n        author={Ryan A. Rossi and Nesreen K. Ahmed},\\n        booktitle={AAAI},\\n        url={http://networkrepository.com},\\n        year={2015}\\n\\n'"
            ]
          },
          "metadata": {
            "tags": []
          },
          "execution_count": 4
        }
      ]
    },
    {
      "cell_type": "code",
      "metadata": {
        "id": "8Czt2vSKNrJd"
      },
      "source": [
        "##### Weighted Graph Generation #####\r\n",
        "\r\n",
        "weighted_edgelist=[]\r\n",
        "with open('drive/MyDrive/data/lab/lab7/lesmis.mtx', 'r') as f:\r\n",
        "    for line in f:\r\n",
        "        l = line.strip().split()\r\n",
        "        if l[0].isdigit() == False:\r\n",
        "            continue\r\n",
        "        weighted_edgelist.append((str(int(l[0])-1), str(int(l[1])-1), float(l[2])))\r\n",
        "\r\n",
        "\r\n",
        "G = nx.Graph()\r\n",
        "G.add_weighted_edges_from(weighted_edgelist)       "
      ],
      "execution_count": 5,
      "outputs": []
    },
    {
      "cell_type": "code",
      "metadata": {
        "colab": {
          "base_uri": "https://localhost:8080/",
          "height": 66,
          "referenced_widgets": [
            "240f1253b7e542fb8a10fc74e32154d4",
            "d3353cc3e7c446b2980a2977c8519a5b",
            "dc43ea1877304a0789b23ed694e72271",
            "135b3432e73849a0a0beced164550b1d",
            "0c4823d17a114cbf95f70ec4f87f0d0b",
            "0cfee3f0eb6646bd89f4cf7f001b3f40",
            "64ccb64938714f55a912c49fb58bc9dd",
            "e470253b8e4841f99fb0f7cd09f83289"
          ]
        },
        "id": "xvPe0je6OU-I",
        "outputId": "e7a0ed28-efb7-4416-ef1d-0aa501077d3a"
      },
      "source": [
        "\r\n",
        "############################ Fill in Your Code ############################################\r\n",
        "node2vec = Node2Vec(G, dimensions=16, walk_length=4, num_walks=200, workers=4)\r\n",
        "model = node2vec.fit(window=2, min_count=1, batch_words=4)\r\n",
        "##############################################################################################"
      ],
      "execution_count": 6,
      "outputs": [
        {
          "output_type": "display_data",
          "data": {
            "application/vnd.jupyter.widget-view+json": {
              "model_id": "240f1253b7e542fb8a10fc74e32154d4",
              "version_minor": 0,
              "version_major": 2
            },
            "text/plain": [
              "HBox(children=(FloatProgress(value=0.0, description='Computing transition probabilities', max=77.0, style=Prog…"
            ]
          },
          "metadata": {
            "tags": []
          }
        },
        {
          "output_type": "stream",
          "text": [
            "\n"
          ],
          "name": "stdout"
        }
      ]
    },
    {
      "cell_type": "code",
      "metadata": {
        "colab": {
          "base_uri": "https://localhost:8080/"
        },
        "id": "zyKUiAjFOX4Z",
        "outputId": "50d2ce8e-8582-4dd5-c84f-a7bd4c8c21e9"
      },
      "source": [
        "print(\"#### Embedding Vector of Node 2 ####\")\r\n",
        "print(model.wv['2'])"
      ],
      "execution_count": 7,
      "outputs": [
        {
          "output_type": "stream",
          "text": [
            "#### Embedding Vector of Node 2 ####\n",
            "[ 0.7108835   0.6499491   0.08152092 -1.4725348  -1.2704067   0.43361768\n",
            "  0.12255166  0.952475   -1.2579373   0.8170391   0.2665413   0.50602174\n",
            " -0.20579594 -0.05536811 -0.3865587   0.0055127 ]\n"
          ],
          "name": "stdout"
        }
      ]
    },
    {
      "cell_type": "code",
      "metadata": {
        "colab": {
          "base_uri": "https://localhost:8080/"
        },
        "id": "7kmfarfuOrWx",
        "outputId": "597ba97e-a8af-4093-ad4c-9d023294ff9e"
      },
      "source": [
        "##### Node 2와 가장 유사한 10개의 node를 출력 #####\r\n",
        "\r\n",
        "print(\"#### Most Similar Nodes to Node 2\")\r\n",
        "model.wv.most_similar('2')  "
      ],
      "execution_count": 8,
      "outputs": [
        {
          "output_type": "stream",
          "text": [
            "#### Most Similar Nodes to Node 2\n"
          ],
          "name": "stdout"
        },
        {
          "output_type": "execute_result",
          "data": {
            "text/plain": [
              "[('3', 0.9963451027870178),\n",
              " ('4', 0.9962567090988159),\n",
              " ('1', 0.9960043430328369),\n",
              " ('9', 0.9946354627609253),\n",
              " ('6', 0.9941818714141846),\n",
              " ('8', 0.9940280914306641),\n",
              " ('7', 0.9929830431938171),\n",
              " ('5', 0.9926013350486755),\n",
              " ('0', 0.9681800603866577),\n",
              " ('14', 0.6550519466400146)]"
            ]
          },
          "metadata": {
            "tags": []
          },
          "execution_count": 8
        }
      ]
    },
    {
      "cell_type": "code",
      "metadata": {
        "id": "oqkbYe-HRfnG"
      },
      "source": [
        "from sklearn.cluster import KMeans\r\n",
        "import numpy as np\r\n",
        "from matplotlib import pyplot as plt"
      ],
      "execution_count": 9,
      "outputs": []
    },
    {
      "cell_type": "code",
      "metadata": {
        "id": "ZHxSKmtkwL-Y"
      },
      "source": [
        "#### sklearn.cluster의 KMeans 알고리즘을 실행시키기 위해 node별 embedding 값을 array로 변환해준다 \r\n",
        "#### 노드 번호에 해당하는 index에 embedding 값을 저장\r\n",
        "vectors_array = np.zeros((len(G.nodes), 16))\r\n",
        "for node in G.nodes:\r\n",
        "    vectors_array[int(node)] = model.wv[node]"
      ],
      "execution_count": 10,
      "outputs": []
    },
    {
      "cell_type": "code",
      "metadata": {
        "id": "PspreKosSYIZ"
      },
      "source": [
        "#### kmeans clustering 알고리즘 실행 ###\r\n",
        "\r\n",
        "############### Fill in Your Code #############################\r\n",
        "\r\n",
        "kmeans = KMeans(n_clusters=5, random_state=0).fit(vectors_array)\r\n",
        "\r\n",
        "################################################################"
      ],
      "execution_count": 11,
      "outputs": []
    },
    {
      "cell_type": "code",
      "metadata": {
        "colab": {
          "base_uri": "https://localhost:8080/",
          "height": 248
        },
        "id": "9J3yUl2duh82",
        "outputId": "2dddc5e3-89f5-46a6-dabb-5afe37b0cb28"
      },
      "source": [
        "\r\n",
        "\r\n",
        "#### 그래프 시각화 - 각 클러스터별로 다른 색깔을 갖도록 함 ####\r\n",
        "pos = nx.spring_layout(G)\r\n",
        "node_color=[]\r\n",
        "node_degree = []\r\n",
        "for node in G.nodes:\r\n",
        "    node_degree.append(G.degree[node]*10)\r\n",
        "    i = int(node)\r\n",
        "    if kmeans.labels_[i] == 0:\r\n",
        "        node_color.append('red')\r\n",
        "    elif kmeans.labels_[i] == 1:\r\n",
        "        node_color.append('yellow')\r\n",
        "    elif kmeans.labels_[i] == 2:\r\n",
        "        node_color.append('blue')\r\n",
        "    elif kmeans.labels_[i] == 3:\r\n",
        "        node_color.append('green')\r\n",
        "    else:\r\n",
        "        node_color.append('orange')\r\n",
        "\r\n",
        "img = nx.draw_networkx_nodes(G, pos, node_color = node_color, node_size=node_degree)\r\n",
        "nx.draw_networkx_edges(G, pos)\r\n",
        "plt.show()"
      ],
      "execution_count": 12,
      "outputs": [
        {
          "output_type": "display_data",
          "data": {
            "image/png": "[encoded data removed]",
            "text/plain": [
              "<Figure size 432x288 with 1 Axes>"
            ]
          },
          "metadata": {
            "tags": []
          }
        }
      ]
    },
    {
      "cell_type": "markdown",
      "metadata": {
        "id": "I19bflrVwtoS"
      },
      "source": [
        "**Node Classification**"
      ]
    },
    {
      "cell_type": "code",
      "metadata": {
        "id": "9BJoGFxMz8iq"
      },
      "source": [
        "###################### Dataset Description ##########################\r\n",
        "##### cora.content : <paper_id> <word_attributes> <class_name> #####\r\n",
        "##### cora.cites : <ID of cited paper> <ID of citing paper> #########\r\n",
        "#####################################################################"
      ],
      "execution_count": 13,
      "outputs": []
    },
    {
      "cell_type": "code",
      "metadata": {
        "id": "Ar7ntURPvhXj"
      },
      "source": [
        "# Directed Graph Generation \r\n",
        "# 메모리 활용을 위해 node class는 숫자로 re-labelling하여 사용\r\n",
        "\r\n",
        "node_class = dict()\r\n",
        "edgelist = list()\r\n",
        "class_num = 1\r\n",
        "class_name_to_num = dict()\r\n",
        "with open('drive/MyDrive/data/lab/lab7/cora.content', 'r') as f, open('drive/MyDrive/data/lab/lab7/cora.cites','r') as f2:\r\n",
        "    for line in f:\r\n",
        "        l = line.strip().split()\r\n",
        "        class_name = l[-1]\r\n",
        "        if class_name not in class_name_to_num:\r\n",
        "            class_name_to_num[class_name] = class_num\r\n",
        "            class_num += 1\r\n",
        "        node_class[l[0]] = class_name_to_num[class_name]\r\n",
        "\r\n",
        "    for line in f2:\r\n",
        "        l = line.strip().split()\r\n",
        "        edgelist.append((l[1],l[0]))\r\n",
        "\r\n",
        "\r\n",
        "G = nx.DiGraph()\r\n",
        "G.add_edges_from(edgelist)\r\n"
      ],
      "execution_count": 14,
      "outputs": []
    },
    {
      "cell_type": "code",
      "metadata": {
        "id": "hGT4nJ8TBPhC"
      },
      "source": [
        "import time"
      ],
      "execution_count": 15,
      "outputs": []
    },
    {
      "cell_type": "code",
      "metadata": {
        "colab": {
          "base_uri": "https://localhost:8080/",
          "height": 82,
          "referenced_widgets": [
            "fe6efdb8e7d84432886887a645e557e3",
            "9c231411ce1d4777bde3b5eed68ecd89",
            "b3a0f449d7c0440ea1ef1bbdb3d0b1bc",
            "1a8955d6e109483abb335a0c27a2b798",
            "a691396e6cc840c7994bd2978caa541c",
            "e1e9f0afadd64fc4a7999fd9e8fd3f40",
            "24eb984a4d6d46b3bcc9702dd9d9a432",
            "97915454221648dd8098d78ca7c28f49"
          ]
        },
        "id": "HW3jnYD36zmM",
        "outputId": "92497dda-4b55-4e9f-9690-a956cae82934"
      },
      "source": [
        "s= time.time()\r\n",
        "##### Node Embedding #####\r\n",
        "node2vec = Node2Vec(G, dimensions=32, walk_length=50, num_walks=200, workers=4)  \r\n",
        "model = node2vec.fit(window=10, min_count=1, batch_words=4) \r\n",
        "print(\"runtime: \", time.time() - s)"
      ],
      "execution_count": 17,
      "outputs": [
        {
          "output_type": "display_data",
          "data": {
            "application/vnd.jupyter.widget-view+json": {
              "model_id": "fe6efdb8e7d84432886887a645e557e3",
              "version_minor": 0,
              "version_major": 2
            },
            "text/plain": [
              "HBox(children=(FloatProgress(value=0.0, description='Computing transition probabilities', max=2708.0, style=Pr…"
            ]
          },
          "metadata": {
            "tags": []
          }
        },
        {
          "output_type": "stream",
          "text": [
            "\n",
            "runtime:  482.8505554199219\n"
          ],
          "name": "stdout"
        }
      ]
    },
    {
      "cell_type": "code",
      "metadata": {
        "id": "_BxpLU5O84VF"
      },
      "source": [
        "from sklearn.model_selection import train_test_split\r\n",
        "from sklearn.neural_network import MLPClassifier\r\n",
        "from sklearn.metrics import mean_squared_error, accuracy_score\r\n"
      ],
      "execution_count": 18,
      "outputs": []
    },
    {
      "cell_type": "code",
      "metadata": {
        "id": "TKyelh4V9yXE",
        "colab": {
          "base_uri": "https://localhost:8080/"
        },
        "outputId": "10776670-6b55-46e3-c039-9d55f5f7d4fd"
      },
      "source": [
        "#### X : embedding of a node, y : class label of a node ####\r\n",
        "\r\n",
        "X = list()\r\n",
        "y = list()\r\n",
        "node_name_to_idx = dict()\r\n",
        "for i, (v, class_) in enumerate(node_class.items()):\r\n",
        "    node_name_to_idx[v] = i\r\n",
        "    X.append(model.wv[v])\r\n",
        "    y.append(class_)\r\n",
        "X = np.array(X)\r\n",
        "y = np.array(y)\r\n",
        "\r\n",
        "#################### Fill in Your Code ################################\r\n",
        "X_train, X_test, y_train, y_test = train_test_split(X, y, shuffle=True)\r\n",
        "clf = MLPClassifier(max_iter=500).fit(X_train, y_train)\r\n",
        "#######################################################################\r\n"
      ],
      "execution_count": 20,
      "outputs": [
        {
          "output_type": "stream",
          "text": [
            "/usr/local/lib/python3.7/dist-packages/sklearn/neural_network/_multilayer_perceptron.py:571: ConvergenceWarning: Stochastic Optimizer: Maximum iterations (500) reached and the optimization hasn't converged yet.\n",
            "  % self.max_iter, ConvergenceWarning)\n"
          ],
          "name": "stderr"
        }
      ]
    },
    {
      "cell_type": "code",
      "metadata": {
        "id": "8GWJi0MCb2nZ",
        "colab": {
          "base_uri": "https://localhost:8080/"
        },
        "outputId": "ea8a2320-b039-4967-8a62-a6f356185ccc"
      },
      "source": [
        "#################### Fill in Your Code ################################\r\n",
        "\r\n",
        "y_predict = clf.predict(X_test)\r\n",
        "\r\n",
        "######################################################################\r\n",
        "\r\n",
        "print(\"###### Result of prediction #####\")\r\n",
        "print(\"Accuracy : {0:05.2f}% \".format(accuracy_score(y_test, y_predict)*100))"
      ],
      "execution_count": 21,
      "outputs": [
        {
          "output_type": "stream",
          "text": [
            "###### Result of prediction #####\n",
            "Accuracy : 79.03% \n"
          ],
          "name": "stdout"
        }
      ]
    },
    {
      "cell_type": "code",
      "metadata": {
        "id": "PXpZWpOVtr-l",
        "colab": {
          "base_uri": "https://localhost:8080/"
        },
        "outputId": "970e9576-8ece-4e46-e2ba-9a5291b43b03"
      },
      "source": [
        "print(\"########## Comparison of Predicted and Test Results ######\")\r\n",
        "for i in range(len(y_test)//20):\r\n",
        "    print(\"#########################################################\")\r\n",
        "    print(\"예측: \", y_predict[i*20:(i+1)*20])\r\n",
        "    print(\"실제: \", y_test[i*20:(i+1)*20])"
      ],
      "execution_count": 22,
      "outputs": [
        {
          "output_type": "stream",
          "text": [
            "########## Comparison of Predicted and Test Results ######\n",
            "#########################################################\n",
            "예측:  [6 4 6 7 6 5 3 6 1 4 1 6 1 1 1 6 7 4 6 5]\n",
            "실제:  [6 2 6 7 5 5 3 6 1 4 1 6 7 1 1 6 2 1 6 5]\n",
            "#########################################################\n",
            "예측:  [4 6 7 4 1 5 5 1 5 1 3 1 4 6 5 1 1 7 3 4]\n",
            "실제:  [4 6 4 4 1 5 5 1 5 4 4 1 4 6 5 4 4 7 6 4]\n",
            "#########################################################\n",
            "예측:  [3 1 5 1 7 6 4 4 1 1 4 4 2 1 4 4 1 7 1 7]\n",
            "실제:  [2 1 4 4 7 6 4 5 1 5 4 1 2 1 4 4 1 7 1 7]\n",
            "#########################################################\n",
            "예측:  [1 2 5 1 5 1 1 1 4 4 2 5 3 1 5 5 5 4 5 1]\n",
            "실제:  [1 2 5 1 5 1 1 1 4 4 2 5 1 1 7 5 5 4 4 1]\n",
            "#########################################################\n",
            "예측:  [1 1 6 5 1 4 2 4 7 1 1 1 6 7 5 7 5 4 5 1]\n",
            "실제:  [1 1 6 5 1 5 2 4 6 1 1 1 6 7 7 7 5 4 4 1]\n",
            "#########################################################\n",
            "예측:  [1 6 1 4 2 2 1 2 1 6 1 7 5 7 1 1 6 7 4 1]\n",
            "실제:  [1 6 1 4 2 2 1 2 4 6 5 7 1 7 1 1 6 7 7 1]\n",
            "#########################################################\n",
            "예측:  [5 1 1 5 5 1 6 4 1 1 4 4 7 3 2 2 1 7 7 1]\n",
            "실제:  [3 6 1 5 4 1 6 1 1 1 4 4 7 3 2 2 1 7 1 1]\n",
            "#########################################################\n",
            "예측:  [4 3 4 1 6 6 1 4 5 3 4 7 6 6 1 1 6 4 6 3]\n",
            "실제:  [4 3 4 1 6 6 1 4 2 3 4 7 6 6 1 1 6 4 6 3]\n",
            "#########################################################\n",
            "예측:  [6 1 5 1 1 4 3 7 1 2 6 6 1 1 5 5 1 1 5 4]\n",
            "실제:  [1 1 5 1 1 4 6 7 1 2 6 6 1 1 5 5 4 1 5 5]\n",
            "#########################################################\n",
            "예측:  [3 5 3 2 1 3 1 1 1 6 4 4 5 6 1 1 4 5 2 4]\n",
            "실제:  [1 5 3 2 1 3 1 1 1 6 4 4 5 6 1 1 1 1 2 4]\n",
            "#########################################################\n",
            "예측:  [4 3 7 6 5 3 7 1 1 1 6 6 1 3 6 6 1 1 1 2]\n",
            "실제:  [4 3 7 2 5 7 1 1 1 1 1 6 6 1 6 6 1 1 1 2]\n",
            "#########################################################\n",
            "예측:  [2 1 6 1 5 6 6 5 3 6 5 4 4 1 1 1 7 7 5 1]\n",
            "실제:  [2 1 6 1 1 6 6 5 6 6 5 4 4 1 1 1 7 6 5 1]\n",
            "#########################################################\n",
            "예측:  [3 5 1 1 1 6 1 1 4 2 2 4 1 4 4 5 1 2 1 7]\n",
            "실제:  [7 5 1 1 5 6 1 2 5 2 2 4 1 4 4 7 1 5 1 7]\n",
            "#########################################################\n",
            "예측:  [1 2 1 5 1 1 5 1 4 5 4 5 4 5 1 1 1 7 1 6]\n",
            "실제:  [1 2 1 5 1 7 1 1 5 5 4 5 4 5 1 1 5 7 1 3]\n",
            "#########################################################\n",
            "예측:  [1 1 7 1 4 4 4 4 1 1 1 3 5 6 4 4 2 5 6 4]\n",
            "실제:  [1 1 7 1 4 4 4 4 4 1 4 6 5 6 4 4 2 1 6 4]\n",
            "#########################################################\n",
            "예측:  [6 6 6 4 4 1 1 6 6 6 1 3 3 4 1 4 4 5 1 4]\n",
            "실제:  [6 6 1 4 4 1 1 6 6 6 1 3 5 4 1 4 4 5 1 4]\n",
            "#########################################################\n",
            "예측:  [5 6 1 1 1 1 5 1 6 3 1 3 4 2 4 1 4 1 1 5]\n",
            "실제:  [7 6 1 1 1 5 4 1 6 3 1 1 4 2 4 1 1 1 1 4]\n",
            "#########################################################\n",
            "예측:  [1 1 4 1 4 1 6 1 1 1 1 1 1 1 2 4 4 1 4 5]\n",
            "실제:  [1 1 4 1 1 1 6 1 1 1 1 6 1 1 2 4 5 6 4 1]\n",
            "#########################################################\n",
            "예측:  [3 1 4 1 1 7 6 6 7 7 1 3 6 7 7 5 5 6 4 4]\n",
            "실제:  [3 4 4 1 1 7 6 6 7 7 1 1 6 1 5 1 3 6 4 4]\n",
            "#########################################################\n",
            "예측:  [1 1 3 3 7 1 4 7 3 1 5 3 1 1 1 5 5 2 6 2]\n",
            "실제:  [4 3 3 3 7 1 4 7 3 1 7 3 1 5 1 5 2 2 6 2]\n",
            "#########################################################\n",
            "예측:  [1 7 7 4 2 3 3 3 4 1 4 1 6 1 1 4 6 6 2 4]\n",
            "실제:  [1 1 7 4 7 6 3 1 4 1 4 1 6 2 5 4 6 6 2 4]\n",
            "#########################################################\n",
            "예측:  [4 1 4 6 6 1 1 7 7 7 6 1 4 2 1 5 1 1 7 3]\n",
            "실제:  [4 1 4 6 6 1 6 1 7 7 6 1 4 2 3 5 1 1 1 3]\n",
            "#########################################################\n",
            "예측:  [2 6 1 3 1 1 1 4 1 1 5 6 7 6 5 3 3 5 7 7]\n",
            "실제:  [7 6 1 3 4 1 1 4 1 1 7 6 7 6 5 3 3 5 7 7]\n",
            "#########################################################\n",
            "예측:  [1 5 5 6 1 1 5 1 4 1 4 1 2 1 3 1 1 2 5 1]\n",
            "실제:  [1 5 5 2 5 1 5 1 4 1 4 1 1 1 3 1 1 2 5 1]\n",
            "#########################################################\n",
            "예측:  [1 1 1 5 1 1 4 1 3 1 1 2 2 1 1 1 7 3 1 1]\n",
            "실제:  [1 1 1 5 4 1 4 1 3 1 1 2 2 1 1 1 7 3 1 1]\n",
            "#########################################################\n",
            "예측:  [7 1 1 4 3 4 2 6 1 4 1 1 4 6 5 1 5 6 7 6]\n",
            "실제:  [7 1 1 1 3 4 2 6 1 4 1 1 4 6 5 5 1 6 7 6]\n",
            "#########################################################\n",
            "예측:  [1 4 7 4 1 5 1 6 4 1 5 5 5 1 1 1 1 5 7 4]\n",
            "실제:  [1 4 5 4 4 5 5 6 4 3 5 5 5 1 1 1 1 5 7 4]\n",
            "#########################################################\n",
            "예측:  [7 4 1 1 1 1 1 3 7 4 1 1 3 1 7 1 5 2 3 6]\n",
            "실제:  [7 4 6 4 1 1 1 1 7 4 1 1 3 1 7 1 5 2 3 6]\n",
            "#########################################################\n",
            "예측:  [1 5 2 5 6 3 1 1 4 6 3 2 1 4 1 5 4 5 1 1]\n",
            "실제:  [1 5 1 5 1 1 1 5 4 6 3 5 1 4 1 1 4 5 1 6]\n",
            "#########################################################\n",
            "예측:  [6 1 7 6 1 1 5 2 1 3 5 1 2 1 6 1 7 1 4 7]\n",
            "실제:  [6 1 5 6 1 4 5 2 1 3 5 1 2 1 6 1 7 1 4 5]\n",
            "#########################################################\n",
            "예측:  [4 5 3 1 5 1 3 4 7 5 4 7 6 2 7 5 5 4 4 1]\n",
            "실제:  [5 3 3 1 1 1 3 4 7 1 4 7 6 2 7 7 5 4 4 1]\n",
            "#########################################################\n",
            "예측:  [1 3 6 4 2 5 6 1 5 7 4 6 6 4 4 4 4 7 2 7]\n",
            "실제:  [4 3 6 4 1 5 7 1 5 5 4 6 6 4 4 4 4 2 7 4]\n",
            "#########################################################\n",
            "예측:  [3 1 4 6 1 2 1 1 1 2 2 4 5 4 1 6 6 7 1 6]\n",
            "실제:  [3 1 4 6 1 5 1 1 1 2 2 4 6 4 1 6 6 7 1 6]\n"
          ],
          "name": "stdout"
        }
      ]
    },
    {
      "cell_type": "code",
      "metadata": {
        "id": "QYhkR2BG4I5c"
      },
      "source": [
        ""
      ],
      "execution_count": null,
      "outputs": []
    }
  ]
}